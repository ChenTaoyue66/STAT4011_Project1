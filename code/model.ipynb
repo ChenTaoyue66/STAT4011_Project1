{
 "cells": [
  {
   "cell_type": "code",
   "execution_count": 8,
   "id": "a99cb300",
   "metadata": {},
   "outputs": [],
   "source": [
    "#importing\n",
    "import numpy as np\n",
    "import pandas as pd\n",
    "import multiprocessing\n",
    "from numpy import mean\n",
    "from numpy import std\n",
    "from pandas import read_csv\n",
    "from sklearn.impute import KNNImputer\n",
    "from sklearn.model_selection import cross_val_score\n",
    "from sklearn.model_selection import KFold\n",
    "from sklearn.pipeline import Pipeline\n",
    "from sklearn.ensemble import RandomForestRegressor\n",
    "from sklearn.model_selection import train_test_split\n",
    "from sklearn.preprocessing import StandardScaler\n",
    "from sklearn.pipeline import Pipeline\n",
    "from sklearn.linear_model import LinearRegression"
   ]
  },
  {
   "cell_type": "code",
   "execution_count": 2,
   "id": "396e5ab1",
   "metadata": {},
   "outputs": [
    {
     "data": {
      "text/plain": [
       "8"
      ]
     },
     "execution_count": 2,
     "metadata": {},
     "output_type": "execute_result"
    }
   ],
   "source": [
    "multiprocessing.cpu_count()"
   ]
  },
  {
   "cell_type": "code",
   "execution_count": 6,
   "id": "74708e98",
   "metadata": {},
   "outputs": [],
   "source": [
    "# data_wd = \"C:/Users/Lenovo/Desktop/git/STAT4011_Project1/data/Lianjia_transformed.csv\"\n",
    "df = pd.read_csv(data_wd)"
   ]
  },
  {
   "cell_type": "code",
   "execution_count": 7,
   "id": "d77e2f5e",
   "metadata": {},
   "outputs": [
    {
     "data": {
      "text/plain": [
       "(17039, 74)"
      ]
     },
     "execution_count": 7,
     "metadata": {},
     "output_type": "execute_result"
    }
   ],
   "source": [
    "X = df.drop(columns=['price'])\n",
    "y = df['price']/100000 \n",
    "Xtrain,Xtest,ytrain,ytest=train_test_split(X,y,test_size=0.2,random_state=4011)"
   ]
  },
  {
   "cell_type": "markdown",
   "id": "8b0efe32",
   "metadata": {},
   "source": [
    "# OLS"
   ]
  },
  {
   "cell_type": "code",
   "execution_count": 15,
   "id": "b26536ef",
   "metadata": {},
   "outputs": [
    {
     "data": {
      "text/plain": [
       "(0.7920315338604614, 0.7732650868190558)"
      ]
     },
     "execution_count": 15,
     "metadata": {},
     "output_type": "execute_result"
    }
   ],
   "source": [
    "model_ols = LinearRegression().fit(Xtrain, ytrain)\n",
    "train_R_2 = model_ols.score(Xtrain, ytrain)\n",
    "test_R_2 = model_ols.score(Xtest, ytest)\n",
    "train_R_2, test_R_2"
   ]
  },
  {
   "cell_type": "markdown",
   "id": "3832e536",
   "metadata": {},
   "source": [
    "# LASSO"
   ]
  },
  {
   "cell_type": "code",
   "execution_count": null,
   "id": "734c741d",
   "metadata": {},
   "outputs": [],
   "source": []
  }
 ],
 "metadata": {
  "kernelspec": {
   "display_name": "Python 3 (ipykernel)",
   "language": "python",
   "name": "python3"
  },
  "language_info": {
   "codemirror_mode": {
    "name": "ipython",
    "version": 3
   },
   "file_extension": ".py",
   "mimetype": "text/x-python",
   "name": "python",
   "nbconvert_exporter": "python",
   "pygments_lexer": "ipython3",
   "version": "3.9.7"
  }
 },
 "nbformat": 4,
 "nbformat_minor": 5
}
