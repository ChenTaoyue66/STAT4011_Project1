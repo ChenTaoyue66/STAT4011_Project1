{
 "cells": [
  {
   "cell_type": "code",
   "execution_count": 43,
   "id": "b92147b4",
   "metadata": {},
   "outputs": [],
   "source": [
    "#importing\n",
    "import numpy as np\n",
    "import pandas as pd\n",
    "# evaluate knn imputation and random forest for the horse colic dataset\n",
    "from numpy import mean\n",
    "from numpy import std\n",
    "from pandas import read_csv\n",
    "from sklearn.impute import KNNImputer\n",
    "from sklearn.model_selection import cross_val_score\n",
    "from sklearn.model_selection import KFold\n",
    "from sklearn.pipeline import Pipeline\n",
    "from sklearn.ensemble import RandomForestRegressor\n",
    "from sklearn.model_selection import train_test_split\n",
    "from sklearn.preprocessing import StandardScaler\n",
    "from sklearn.pipeline import Pipeline"
   ]
  },
  {
   "cell_type": "code",
   "execution_count": 44,
   "id": "9128a813",
   "metadata": {},
   "outputs": [],
   "source": [
    "data_wd = \"Downloads/20229281150.csv\"\n",
    "df1 = pd.read_csv(data_wd,na_values='?')\n",
    "df1=df1.drop(columns=\"city\")\n",
    "\n",
    "for i in range(0,len(df1[\"price\"])):\n",
    " if(df1.loc[i,\"elevator\"]=='\\\\n'):\n",
    "   df1.loc[i,\"elevator\"]=''"
   ]
  },
  {
   "cell_type": "code",
   "execution_count": 45,
   "id": "43675266",
   "metadata": {},
   "outputs": [
    {
     "data": {
      "text/plain": [
       "range(0, 21299)"
      ]
     },
     "execution_count": 45,
     "metadata": {},
     "output_type": "execute_result"
    }
   ],
   "source": [
    "range(0,len(df1[\"price\"]))"
   ]
  },
  {
   "cell_type": "code",
   "execution_count": 46,
   "id": "a49dfc3d",
   "metadata": {},
   "outputs": [],
   "source": [
    "df1 = df1.apply(pd.to_numeric)"
   ]
  },
  {
   "cell_type": "code",
   "execution_count": 47,
   "id": "8f4779c9",
   "metadata": {},
   "outputs": [
    {
     "name": "stdout",
     "output_type": "stream",
     "text": [
      "> 0, Missing: 0 (0.0%)\n",
      "> 1, Missing: 0 (0.0%)\n",
      "> 2, Missing: 0 (0.0%)\n",
      "> 3, Missing: 588 (2.8%)\n",
      "> 4, Missing: 0 (0.0%)\n",
      "> 5, Missing: 575 (2.7%)\n",
      "> 6, Missing: 0 (0.0%)\n",
      "> 7, Missing: 0 (0.0%)\n",
      "> 8, Missing: 0 (0.0%)\n",
      "> 9, Missing: 0 (0.0%)\n",
      "> 10, Missing: 83 (0.4%)\n",
      "> 11, Missing: 83 (0.4%)\n",
      "> 12, Missing: 83 (0.4%)\n",
      "> 13, Missing: 0 (0.0%)\n",
      "> 14, Missing: 0 (0.0%)\n",
      "> 15, Missing: 0 (0.0%)\n",
      "> 16, Missing: 0 (0.0%)\n",
      "> 17, Missing: 0 (0.0%)\n",
      "> 18, Missing: 259 (1.2%)\n",
      "> 19, Missing: 259 (1.2%)\n",
      "> 20, Missing: 259 (1.2%)\n",
      "> 21, Missing: 259 (1.2%)\n",
      "> 22, Missing: 259 (1.2%)\n",
      "> 23, Missing: 259 (1.2%)\n",
      "> 24, Missing: 259 (1.2%)\n",
      "> 25, Missing: 0 (0.0%)\n",
      "> 26, Missing: 0 (0.0%)\n",
      "> 27, Missing: 0 (0.0%)\n",
      "> 28, Missing: 0 (0.0%)\n",
      "> 29, Missing: 0 (0.0%)\n",
      "> 30, Missing: 0 (0.0%)\n",
      "> 31, Missing: 0 (0.0%)\n",
      "> 32, Missing: 0 (0.0%)\n",
      "> 33, Missing: 0 (0.0%)\n",
      "> 34, Missing: 0 (0.0%)\n",
      "> 35, Missing: 0 (0.0%)\n",
      "> 36, Missing: 0 (0.0%)\n",
      "> 37, Missing: 0 (0.0%)\n",
      "> 38, Missing: 0 (0.0%)\n",
      "> 39, Missing: 0 (0.0%)\n",
      "> 40, Missing: 0 (0.0%)\n",
      "> 41, Missing: 0 (0.0%)\n",
      "> 42, Missing: 0 (0.0%)\n",
      "> 43, Missing: 0 (0.0%)\n",
      "> 44, Missing: 1 (0.0%)\n",
      "> 45, Missing: 1 (0.0%)\n",
      "> 46, Missing: 1 (0.0%)\n",
      "> 47, Missing: 1 (0.0%)\n",
      "> 48, Missing: 1 (0.0%)\n",
      "> 49, Missing: 1 (0.0%)\n",
      "> 50, Missing: 0 (0.0%)\n",
      "> 51, Missing: 0 (0.0%)\n",
      "> 52, Missing: 996 (4.7%)\n",
      "> 53, Missing: 996 (4.7%)\n",
      "> 54, Missing: 996 (4.7%)\n",
      "> 55, Missing: 2 (0.0%)\n",
      "> 56, Missing: 2 (0.0%)\n",
      "> 57, Missing: 2 (0.0%)\n",
      "> 58, Missing: 2 (0.0%)\n",
      "> 59, Missing: 0 (0.0%)\n",
      "> 60, Missing: 0 (0.0%)\n",
      "> 61, Missing: 0 (0.0%)\n",
      "> 62, Missing: 0 (0.0%)\n",
      "> 63, Missing: 0 (0.0%)\n",
      "> 64, Missing: 0 (0.0%)\n",
      "> 65, Missing: 0 (0.0%)\n",
      "> 66, Missing: 0 (0.0%)\n",
      "> 67, Missing: 0 (0.0%)\n",
      "> 68, Missing: 0 (0.0%)\n",
      "> 69, Missing: 0 (0.0%)\n",
      "> 70, Missing: 0 (0.0%)\n",
      "> 71, Missing: 0 (0.0%)\n",
      "> 72, Missing: 0 (0.0%)\n",
      "> 73, Missing: 0 (0.0%)\n"
     ]
    }
   ],
   "source": [
    "# summarize the number of rows with missing values for each column\n",
    "for i in range(df1.shape[1]):\n",
    " n_miss = df1.iloc[0:df1.shape[0],i].isnull().sum()\n",
    " perc = n_miss / df1.shape[0] * 100\n",
    " print('> %d, Missing: %d (%.1f%%)' % (i, n_miss, perc))"
   ]
  },
  {
   "cell_type": "code",
   "execution_count": 48,
   "id": "ba8bd7d2",
   "metadata": {},
   "outputs": [
    {
     "data": {
      "text/plain": [
       "(17039, 73)"
      ]
     },
     "execution_count": 48,
     "metadata": {},
     "output_type": "execute_result"
    }
   ],
   "source": [
    "X = df1.drop(columns=['price'])\n",
    "y = df1['price']/100000 \n",
    "Xtrain,Xtest,ytrain,ytest=train_test_split(X,y,test_size=0.2,random_state=4011)\n",
    "Xtrain.shape"
   ]
  },
  {
   "cell_type": "code",
   "execution_count": 49,
   "id": "081bd998",
   "metadata": {},
   "outputs": [],
   "source": [
    "my_imputer = KNNImputer(n_neighbors=9)\n",
    "X_trained_filled = my_imputer.fit_transform(Xtrain)\n",
    "\n",
    "# now transform test\n",
    "X_test_filled = my_imputer.transform(Xtest)"
   ]
  },
  {
   "cell_type": "code",
   "execution_count": 50,
   "id": "8839a6b2",
   "metadata": {},
   "outputs": [],
   "source": [
    "scaler= StandardScaler().fit(X_train_standarded)\n",
    "X_train_standarded = scaler.transform(X_trained_filled)\n",
    "scaler= StandardScaler().fit(X_test_filled)\n",
    "X_test_standarded = scaler.transform(X_test_filled)"
   ]
  },
  {
   "cell_type": "code",
   "execution_count": 51,
   "id": "f92ee519",
   "metadata": {},
   "outputs": [
    {
     "data": {
      "text/plain": [
       "array([[ 0.62050426,  1.47426983,  1.12806858, ..., -0.18925113,\n",
       "        -0.29109831, -0.28574515],\n",
       "       [-0.80889926,  0.97063679, -0.88498761, ..., -0.18925113,\n",
       "        -0.29109831, -0.28574515],\n",
       "       [-0.54900771, -0.83613897, -0.88498761, ..., -0.18925113,\n",
       "        -0.29109831, -0.28574515],\n",
       "       ...,\n",
       "       [-0.54900771,  0.01209602, -0.88498761, ..., -0.18925113,\n",
       "        -0.29109831, -0.28574515],\n",
       "       [-0.67895349, -0.86205668, -0.88498761, ..., -0.18925113,\n",
       "        -0.29109831, -0.28574515],\n",
       "       [ 1.66007046,  0.05688183,  1.12806858, ..., -0.18925113,\n",
       "        -0.29109831, -0.28574515]])"
      ]
     },
     "execution_count": 51,
     "metadata": {},
     "output_type": "execute_result"
    }
   ],
   "source": [
    "X_train_standarded"
   ]
  },
  {
   "cell_type": "code",
   "execution_count": 55,
   "id": "aa3ccdf6",
   "metadata": {},
   "outputs": [],
   "source": [
    "X_train_standarded = pd.DataFrame(X_train_standarded)\n",
    "X_test_standarded = pd.DataFrame(X_test_standarded)\n",
    "ytrain = pd.DataFrame(ytrain)\n",
    "ytest = pd.DataFrame(ytest)"
   ]
  },
  {
   "cell_type": "code",
   "execution_count": 56,
   "id": "fa161414",
   "metadata": {},
   "outputs": [],
   "source": [
    "X_train_standarded.to_csv(\"transformed_Xtrain.csv\",index=False)\n",
    "X_test_standarded.to_csv(\"transformed_Xtest.csv\",index=False)\n",
    "ytrain.to_csv(\"transformed_ytrain.csv\",index=False)\n",
    "ytest.to_csv(\"transformed_ytest.csv\",index=False)"
   ]
  },
  {
   "cell_type": "code",
   "execution_count": null,
   "id": "26b14331",
   "metadata": {},
   "outputs": [],
   "source": []
  }
 ],
 "metadata": {
  "kernelspec": {
   "display_name": "Python 3 (ipykernel)",
   "language": "python",
   "name": "python3"
  },
  "language_info": {
   "codemirror_mode": {
    "name": "ipython",
    "version": 3
   },
   "file_extension": ".py",
   "mimetype": "text/x-python",
   "name": "python",
   "nbconvert_exporter": "python",
   "pygments_lexer": "ipython3",
   "version": "3.8.5"
  }
 },
 "nbformat": 4,
 "nbformat_minor": 5
}
