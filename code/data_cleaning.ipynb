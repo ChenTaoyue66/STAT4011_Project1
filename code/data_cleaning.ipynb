{
 "cells": [
  {
   "cell_type": "code",
   "execution_count": 132,
   "metadata": {
    "id": "gD6vekxDr9Q5"
   },
   "outputs": [],
   "source": [
    "#importing\n",
    "import numpy as np\n",
    "import pandas as pd\n",
    "import datetime as dt\n",
    "import re"
   ]
  },
  {
   "cell_type": "code",
   "execution_count": 133,
   "metadata": {},
   "outputs": [],
   "source": [
    "data_wd = \"C:/Users/Lenovo/Desktop/git/STAT4011_Project1/data/Lianjia_raw.csv\"\n",
    "df1 = pd.read_csv(data_wd,header=None).astype(\"str\")\n",
    "\n",
    "dropped_column = [0,2,3,5,11,18,19,20,21,22,23,24,25,26,27,28,29,30,31,32,33,34,35,36,37,38,39,40,41,42,43,44,45,46,48,50,52,54,56,58,59,60,62,63,64,65,66,67,69]\n",
    "df = df1.drop(dropped_column,axis=1)\n",
    "df.index = range(21299)\n",
    "df.columns = [\"district\",\"price\",\"layout\",\"rel_floor\",\"total_floor\",\"area_size\",\"config\",\"building_type\",\"direction\",\"structure\",\"renovation_status\",\"no_of_units\",\"elevator\",\"date_on_market\",\"transact_property\",\"last_transact_date\",\"function\",\"age_limit\",\"property_belong\",\"upload_photo\",\"loc\",\"avail_visit_time\"]"
   ]
  },
  {
   "cell_type": "code",
   "execution_count": 134,
   "metadata": {
    "id": "PGlzCQQCTlNV"
   },
   "outputs": [],
   "source": [
    "#converting price to float\n",
    "pr = df[\"price\"]\n",
    "#for i in range(len(pr)):\n",
    "#  if(pr[i].find(\"万\")==-1):\n",
    "#    print(i)\n",
    "#df.iloc[2121],改一下那条record\n",
    "r1_reformat = [\"pudong\",\"371万\",\"2室2厅1厨1卫\",\"中楼层\",\"共6层\",\"72.88㎡\",\"平层\",\"板楼\",\"南 北\",\"砖混结构\",\"简装\",\"一梯两户\",\"无\",\"2022-07-09\",\"商品房\",\"2006-06-06\",\"普通住宅\",\"满五年\",\"共有\",\"已上传房本照片\",\"\\xa0外环外\",\"\\n\" ]\n",
    "r2_reformat = [\"pudong\",\"213万\",\"2室1厅1厨1卫\",\"中楼层\",\"共6层\",\"70.31㎡\",\"平层\",\"板楼\",\"南\",\"砖混结构\",\"简装\",\"一梯四户\",\"无\",\"2022-03-03\",\"商品房\",\"2020-03-23\",\"普通住宅\",\"满两年\",\"非共有\",\"已上传房本照片\",\"\\n\",\"\\n\"]\n",
    "df.iloc[2121]=r1_reformat\n",
    "df.iloc[2165]=r2_reformat\n",
    "for i in range(len(pr)):\n",
    "  price = df.iloc[i][\"price\"]\n",
    "  price = price.strip()\n",
    "  price = price[:-1]\n",
    "  price = float(price)*10000\n",
    "  df.loc[i,\"price\"]=price"
   ]
  },
  {
   "cell_type": "code",
   "execution_count": 135,
   "metadata": {
    "id": "QgcZLEmbpHVl"
   },
   "outputs": [],
   "source": [
    "# area size to float\n",
    "asi = df[\"area_size\"]\n",
    "for i in range(len(asi)):\n",
    "  size = df.iloc[i][\"area_size\"]\n",
    "  size = size.strip()\n",
    "  size = size.strip(\"'\")\n",
    "  size = size[:-1]\n",
    "  size = float(size)\n",
    "  df.loc[i,\"area_size\"]=size"
   ]
  },
  {
   "cell_type": "code",
   "execution_count": 136,
   "metadata": {
    "id": "nWaqz77WqM5T"
   },
   "outputs": [],
   "source": [
    "#layout_conversion\n",
    "lo = df[\"layout\"]\n",
    "for i in range(len(lo)):\n",
    "  layout = df.iloc[i][\"layout\"]\n",
    "  layout = layout.strip()\n",
    "  layout = layout.strip('\"')\n",
    "  layout = layout.strip(\"[\")\n",
    "  layout = layout.strip(\"'\")\n",
    "  df.loc[i,\"layout\"]=layout"
   ]
  },
  {
   "cell_type": "code",
   "execution_count": 137,
   "metadata": {
    "colab": {
     "base_uri": "https://localhost:8080/"
    },
    "id": "QPmEgZq4rnlZ",
    "outputId": "02dfbc4d-d88a-4581-9989-1a41b2831ab7"
   },
   "outputs": [
    {
     "name": "stdout",
     "output_type": "stream",
     "text": [
      "13972\n"
     ]
    }
   ],
   "source": [
    "for i in range(len(lo)):\n",
    "  layout = df.iloc[i][\"layout\"]\n",
    "  if(len(layout)!=8):\n",
    "    print(i)\n",
    "#室厅厨卫 4*n matrices, item 13972 as an exception"
   ]
  },
  {
   "cell_type": "code",
   "execution_count": 138,
   "metadata": {
    "id": "onX3024BBYgs"
   },
   "outputs": [],
   "source": [
    "#split the column into 4 columns\n",
    "lo = df[\"layout\"]\n",
    "bedroom_no = []\n",
    "parlour_no = []\n",
    "kitchen_no = []\n",
    "toilet_no = []\n",
    "for i in range(len(lo)):\n",
    "  strr = lo[i]\n",
    "  if i == 13972:\n",
    "    bedroom_no.append(10)\n",
    "    parlour_no.append(1)\n",
    "    kitchen_no.append(0)\n",
    "    toilet_no.append(1)\n",
    "  #elif strr.find(\"室\")!=1 or strr.find(\"厅\")!=3 or strr.find(\"厨\")!=5 or strr.find(\"卫\")!=7:\n",
    "  else:\n",
    "    bedroom_no.append(int(strr[0]))\n",
    "    parlour_no.append(int(strr[2]))\n",
    "    kitchen_no.append(int(strr[4]))\n",
    "    toilet_no.append(int(strr[6]))\n",
    "df['bedrm_no']=bedroom_no\n",
    "df['parlour_no']=parlour_no\n",
    "df['kitchen_no']=kitchen_no\n",
    "df['toilet_no']=toilet_no"
   ]
  },
  {
   "cell_type": "code",
   "execution_count": 139,
   "metadata": {
    "id": "2wErLKdSqMzM"
   },
   "outputs": [],
   "source": [
    "#total_floor\n",
    "tf = df[\"total_floor\"]\n",
    "for i in range(len(tf)):\n",
    "  totf = df.iloc[i][\"total_floor\"]\n",
    "  totf = totf.strip()\n",
    "  totf = totf.strip(\"'\")\n",
    "  totf = totf.strip(\")\")\n",
    "  totf = totf[:-1]\n",
    "  totf = int(totf[1:])\n",
    "  df.loc[i,\"total_floor\"] = totf"
   ]
  },
  {
   "cell_type": "markdown",
   "metadata": {
    "id": "5dwViLZOqMze"
   },
   "source": [
    "# pre-processed here: Stripping the rest of other columns."
   ]
  },
  {
   "cell_type": "code",
   "execution_count": 140,
   "metadata": {
    "id": "ygGqtSdWzCGt"
   },
   "outputs": [],
   "source": [
    "#strip formatting \n",
    "easy_strip = [\"config\",\"building_type\",\"rel_floor\",\"direction\",\"structure\",\"renovation_status\",\"no_of_units\",\"elevator\",\"date_on_market\",\"transact_property\",\"last_transact_date\",\"function\",\"age_limit\",\"property_belong\",\"upload_photo\",\"loc\",\"avail_visit_time\"]\n",
    "structure = df[\"structure\"]\n",
    "for i in easy_strip:\n",
    "    for j in range(len(structure)):\n",
    "      bti = df.iloc[j][i]\n",
    "      bti = bti.strip()\n",
    "      bti = bti.strip(\"'\")\n",
    "      df.loc[j,i] = bti"
   ]
  },
  {
   "cell_type": "code",
   "execution_count": 141,
   "metadata": {
    "id": "iDBAlZKq7BKS"
   },
   "outputs": [],
   "source": [
    "#available time data\n",
    "tim = df[\"avail_visit_time\"]\n",
    "for j in range(len(tim)):\n",
    "  tim = df.iloc[j][\"avail_visit_time\"]\n",
    "  tim = tim.strip(\"]\")\n",
    "  tim = tim.strip(\"'\")\n",
    "  df.loc[j,\"avail_visit_time\"]=tim\n",
    "#upload photo\n",
    "#location data\n",
    "pho = df[\"upload_photo\"]\n",
    "for j in range(len(pho)):\n",
    "  pho = df.iloc[j][\"upload_photo\"]\n",
    "  pho = pho.strip(\"]\")\n",
    "  pho = pho.strip(\"'\")\n",
    "  df.loc[j,\"upload_photo\"]=pho"
   ]
  },
  {
   "cell_type": "code",
   "execution_count": 142,
   "metadata": {
    "colab": {
     "base_uri": "https://localhost:8080/"
    },
    "id": "saX05lMbqMzn",
    "outputId": "c89f5019-320c-4c26-83f3-1e54d7a0a26d"
   },
   "outputs": [
    {
     "data": {
      "text/plain": [
       "21294    2022-08-03\n",
       "21295    2019-10-17\n",
       "21296    2020-12-28\n",
       "21297    2021-02-28\n",
       "21298    2022-07-17\n",
       "Name: date_on_market, dtype: object"
      ]
     },
     "execution_count": 142,
     "metadata": {},
     "output_type": "execute_result"
    }
   ],
   "source": [
    "date1 = df[\"date_on_market\"]\n",
    "date1.tail()"
   ]
  },
  {
   "cell_type": "code",
   "execution_count": 143,
   "metadata": {
    "id": "w5cCCIY5n_u5"
   },
   "outputs": [],
   "source": [
    "now = dt.date.today()\n",
    "date1 = df[\"date_on_market\"]\n",
    "date2 = df[\"last_transact_date\"]\n",
    "for i in range(len(date1)):\n",
    " datetemp1 = now -dt.date.fromisoformat(date1[i])\n",
    " df.loc[i,\"date_on_market\"]=datetemp1.days"
   ]
  },
  {
   "cell_type": "code",
   "execution_count": 144,
   "metadata": {
    "id": "x3VKQs-uqMzp"
   },
   "outputs": [],
   "source": [
    "for i in range(len(date2)):\n",
    "  if date2[i].find(\"暂无数据\")!=-1:\n",
    "    continue\n",
    "  else:\n",
    "    datetemp2 = now-dt.date.fromisoformat(date2[i])\n",
    "    df.loc[i,\"last_transact_date\"]=datetemp2.days"
   ]
  },
  {
   "cell_type": "code",
   "execution_count": 145,
   "metadata": {
    "id": "iA6Flixxn95u"
   },
   "outputs": [],
   "source": [
    "for t in range(len(date1)):\n",
    "  str1 = df[\"loc\"][t]\n",
    "  if(type(str1)==str):\n",
    "    str1 = str1.strip()\n",
    "    str1 = str1.strip(\"\\\\\")\n",
    "    str1 = str1.strip(\"xa0\")\n",
    "    str1 = str1.strip(\"xa1\")\n",
    "    str1 = str1.strip('\"')\n",
    "    str1 = str1.strip(\"]\")\n",
    "    str1 = str1.strip(\"'\")\n",
    "    df.loc[t,\"loc\"] = str1"
   ]
  },
  {
   "cell_type": "markdown",
   "metadata": {
    "id": "woBc0bGaqMzr"
   },
   "source": [
    "# “暂无数据” is replaced with na."
   ]
  },
  {
   "cell_type": "code",
   "execution_count": 146,
   "metadata": {
    "id": "-NUnAIkYsVUA"
   },
   "outputs": [],
   "source": [
    "column_name = [\"district\",\"rel_floor\",\"config\",\"building_type\",\"direction\",\"structure\",\"renovation_status\",\"no_of_units\",\"elevator\",\"date_on_market\",\"transact_property\",\"last_transact_date\",\"function\",\"age_limit\",\"property_belong\",\"upload_photo\",\"loc\",\"avail_visit_time\"]\n",
    "for j in column_name:\n",
    "  for i in range(len(date1)):\n",
    "    if(type(df[j][i])!=str):\n",
    "      continue\n",
    "    elif(df[j][i].find(\"暂无数据\")!=-1):\n",
    "      df.loc[i,j]=np.NaN\n",
    "    elif(df[j][i].find(\"\\n\")!=-1):\n",
    "      df.loc[i,j]=np.NaN"
   ]
  },
  {
   "cell_type": "code",
   "execution_count": 147,
   "metadata": {
    "id": "RuY95TUd6G06"
   },
   "outputs": [],
   "source": [
    "#elevator\n",
    "ele = df[\"elevator\"]\n",
    "for i in range(len(ele)):\n",
    "  if(ele[i]==\"有\"):\n",
    "    df.loc[i,\"elevator\"]=1\n",
    "  elif ele[i]==\"无\":\n",
    "    df.loc[i,\"elevator\"]=0\n",
    "  else:\n",
    "    df.loc[i,\"elevator\"]=np.nan"
   ]
  },
  {
   "cell_type": "markdown",
   "metadata": {
    "id": "PxDpGfIhtuhI"
   },
   "source": [
    "to be processed:\\\n",
    "*no_of_units* column. concatenate the string into two parts, output all possible values in chinese character. substitue them with decimal number representation. compute the proportion. substitute the previous column with new arrays."
   ]
  },
  {
   "cell_type": "code",
   "execution_count": 148,
   "metadata": {
    "id": "7N8-KfZe3OyX"
   },
   "outputs": [],
   "source": [
    "ar1 = df[\"no_of_units\"]\n",
    "stair = []\n",
    "unit = []\n",
    "for i in range(len(ar1)):\n",
    "  str1 = df[\"no_of_units\"][i]\n",
    "  if (str1.find(\"梯\")== -1):\n",
    "    stair.append(np.NaN)\n",
    "    unit.append(np.NaN)\n",
    "  else:\n",
    "    inde = str1.index(\"梯\")\n",
    "    if inde > 1:\n",
    "      stair.append(str1[0:(inde-1)])\n",
    "    else:\n",
    "      stair.append(str1[0])\n",
    "    str1 = str1[:-1]\n",
    "    unit.append(str1[(inde+1):])\n",
    "\n",
    "x = np.array(stair)\n",
    "y = np.array(unit)\n",
    "xu = np.unique(x)\n",
    "yu = np.unique(y)\n",
    "xu1 = xu.tolist()\n",
    "yu1 = yu.tolist()"
   ]
  },
  {
   "cell_type": "code",
   "execution_count": 149,
   "metadata": {
    "colab": {
     "base_uri": "https://localhost:8080/"
    },
    "id": "95Xtb3rBBG6L",
    "outputId": "eaf520fe-8164-4697-94b2-9eb6151bcbcf"
   },
   "outputs": [
    {
     "name": "stdout",
     "output_type": "stream",
     "text": [
      "['nan' '一' '七' '三' '两' '九' '二' '五' '八' '六' '十' '四']\n",
      "['nan' '一' '一百' '七' '七十七' '七十四' '三' '三十' '三十一' '三十七' '三十三' '三十二' '三十五'\n",
      " '三十六' '三十四' '两' '九' '二十' '二十一' '二十七' '二十三' '二十九' '二十二' '二十五' '二十八' '二十六'\n",
      " '二十四' '五' '五十' '五十一' '五十七' '五十三' '五十九' '五十二' '五十五' '五十八' '五十六' '八' '八十'\n",
      " '八十四' '六' '六十五' '六十六' '十' '十一' '十七' '十三' '十九' '十二' '十五' '十八' '十六' '十四'\n",
      " '四' '四十' '四十一' '四十七' '四十三' '四十二' '四十五' '四十六']\n"
     ]
    }
   ],
   "source": [
    "print(xu)\n",
    "print(yu)\n",
    "xup = [np.NaN,1,7,3,2,9,2,5,8,6,10,4] #preparing the integer vector to substitute the respected in vector in Chinese character\n",
    "yup = [np.NaN,1,100,7,77,74,3,30,31,37,33,32,35,36,34,2,9,20,21,27,23,29,22,25,28,26,24,5,50,51,57,53,59,52,55,58,56,8,80,84,6,65,66,10,11,17,13,19,12,15,18,16,14,4,40,41,47,43,42,45,46]\n"
   ]
  },
  {
   "cell_type": "code",
   "execution_count": 150,
   "metadata": {
    "id": "0EloR7sp8zge"
   },
   "outputs": [],
   "source": [
    "xu1 = xu.tolist()\n",
    "yu1 = yu.tolist()\n",
    "for i in range(len(stair)):\n",
    "  if(stair[i] in [np.nan]):\n",
    "    continue\n",
    "  else:\n",
    "    stair[i]=xup[xu1.index(stair[i])]\n",
    "for j in range(len(unit)):\n",
    "  if(unit[j] in [np.nan]):\n",
    "    continue\n",
    "  else:\n",
    "    unit[j]=yup[yu1.index(unit[j])]\n"
   ]
  },
  {
   "cell_type": "code",
   "execution_count": 151,
   "metadata": {
    "id": "XFGQMno6IL2S"
   },
   "outputs": [],
   "source": [
    "df[\"stair\"]=stair\n",
    "df[\"unit\"]=unit\n",
    "st = np.array(stair)\n",
    "un = np.array(unit)\n",
    "proportion = np.divide(st,un)\n",
    "df[\"proportion\"]=proportion"
   ]
  },
  {
   "cell_type": "code",
   "execution_count": 152,
   "metadata": {
    "colab": {
     "base_uri": "https://localhost:8080/"
    },
    "id": "5a9m9ETvUMKW",
    "outputId": "e115f895-9d52-45c8-d330-22e5f4a5c721"
   },
   "outputs": [
    {
     "name": "stdout",
     "output_type": "stream",
     "text": [
      "['中楼层' '低楼层' '高楼层']\n"
     ]
    }
   ],
   "source": [
    "rf = df[\"rel_floor\"]\n",
    "rfp = np.array(rf)\n",
    "print(np.unique(rfp))"
   ]
  },
  {
   "cell_type": "code",
   "execution_count": 153,
   "metadata": {
    "id": "76HAX-gl323A"
   },
   "outputs": [],
   "source": [
    "df2 = pd.get_dummies(pd.Series(rf))\n",
    "df2.columns=[\"mid_floor\",\"lower_floor\",\"higher_floor\"]\n",
    "df = pd.concat([df,df2],axis=1)"
   ]
  },
  {
   "cell_type": "code",
   "execution_count": 154,
   "metadata": {
    "colab": {
     "base_uri": "https://localhost:8080/"
    },
    "id": "x_J-L0eMVkkC",
    "outputId": "2fcb7423-4ad9-4c9a-8b34-9cdf1fbbd3e9"
   },
   "outputs": [
    {
     "name": "stdout",
     "output_type": "stream",
     "text": [
      "['108.88㎡' '182.54㎡' '303.19㎡' '356.3㎡' '403.3㎡' '538.45㎡' '555.51㎡' 'nan'\n",
      " '复式' '平层' '跃层' '错层']\n"
     ]
    }
   ],
   "source": [
    "config = df[\"config\"]\n",
    "con = np.array(config)\n",
    "for i in range(len(con)):\n",
    "  con[i]=str(con[i])\n",
    "print(np.unique(con))"
   ]
  },
  {
   "cell_type": "code",
   "execution_count": 155,
   "metadata": {
    "id": "gcX0rwkAafGM"
   },
   "outputs": [],
   "source": [
    "#we found that there are duplicated area size data in the config data, and removed them in this section\n",
    "for i in range(len(con)):\n",
    "  if(con[i].find(\"㎡\")!=-1):\n",
    "    df.loc[i,\"config\"]=np.nan"
   ]
  },
  {
   "cell_type": "code",
   "execution_count": 156,
   "metadata": {
    "id": "ljCIsLO2bDsq"
   },
   "outputs": [],
   "source": [
    "config = df[\"config\"]\n",
    "df2 = pd.get_dummies(pd.Series(config))\n",
    "df2.columns=[\"duplex_config\",\"levelling_config\",\"yue_config\",\"split_level_config\"]\n",
    "df = pd.concat([df,df2],axis=1)"
   ]
  },
  {
   "cell_type": "code",
   "execution_count": 157,
   "metadata": {
    "colab": {
     "base_uri": "https://localhost:8080/"
    },
    "id": "FuBKFeaGdbej",
    "outputId": "c4c91633-95bf-4542-fb04-9933e522b37c"
   },
   "outputs": [
    {
     "name": "stdout",
     "output_type": "stream",
     "text": [
      "['nan' '塔楼' '平房' '未知结构' '板塔结合' '板楼' '框架结构' '砖混结构' '钢混结构']\n"
     ]
    }
   ],
   "source": [
    "bt = df[\"building_type\"]\n",
    "btt = np.array(bt)\n",
    "for i in range(len(btt)):\n",
    "  btt[i]=str(btt[i])\n",
    "print(np.unique(btt))"
   ]
  },
  {
   "cell_type": "code",
   "execution_count": 158,
   "metadata": {
    "id": "7ZKT36lZd-d7"
   },
   "outputs": [
    {
     "data": {
      "text/plain": [
       "[804,\n",
       " 807,\n",
       " 1166,\n",
       " 1169,\n",
       " 1183,\n",
       " 1243,\n",
       " 4174,\n",
       " 5398,\n",
       " 5479,\n",
       " 5604,\n",
       " 5651,\n",
       " 5666,\n",
       " 5730,\n",
       " 6602,\n",
       " 10736,\n",
       " 11783,\n",
       " 12230,\n",
       " 14051,\n",
       " 14060,\n",
       " 14158,\n",
       " 14193,\n",
       " 14236,\n",
       " 14241,\n",
       " 14278,\n",
       " 14286,\n",
       " 14365,\n",
       " 14367,\n",
       " 14371,\n",
       " 14372,\n",
       " 14376,\n",
       " 14378,\n",
       " 14382,\n",
       " 14383,\n",
       " 14384,\n",
       " 14385,\n",
       " 14387,\n",
       " 14388,\n",
       " 14391,\n",
       " 14394,\n",
       " 14395,\n",
       " 14594,\n",
       " 14604,\n",
       " 14799,\n",
       " 14987,\n",
       " 14988,\n",
       " 15107,\n",
       " 15154,\n",
       " 15295,\n",
       " 15372,\n",
       " 15872,\n",
       " 17057,\n",
       " 17105,\n",
       " 17109,\n",
       " 17115,\n",
       " 17116,\n",
       " 17135,\n",
       " 17150,\n",
       " 17327,\n",
       " 17354,\n",
       " 17500,\n",
       " 18529,\n",
       " 18717,\n",
       " 18846,\n",
       " 19019,\n",
       " 19111,\n",
       " 19697,\n",
       " 20693,\n",
       " 20752,\n",
       " 20777,\n",
       " 20781,\n",
       " 20784,\n",
       " 20785,\n",
       " 20786,\n",
       " 20787,\n",
       " 20791,\n",
       " 20794,\n",
       " 20796,\n",
       " 20878,\n",
       " 20890,\n",
       " 20923,\n",
       " 21008,\n",
       " 21009,\n",
       " 21244]"
      ]
     },
     "execution_count": 158,
     "metadata": {},
     "output_type": "execute_result"
    }
   ],
   "source": [
    "#horizontal position changes are observed, need to be adjusted back to the right format \n",
    "anomaly_list = []\n",
    "for i in range(len(btt)):\n",
    "  if(btt[i]==\"钢混结构\" or btt[i]==\"未知结构\" or btt[i]==\"框架结构\" or btt[i]==\"砖混结构\"):\n",
    "    anomaly_list.append(i)\n",
    "anomaly_list"
   ]
  },
  {
   "cell_type": "code",
   "execution_count": 159,
   "metadata": {},
   "outputs": [],
   "source": [
    "df_correct = pd.read_csv(data_wd,header=None).astype(\"str\")\n",
    "df_correct.index = range(21299)"
   ]
  },
  {
   "cell_type": "code",
   "execution_count": 160,
   "metadata": {
    "id": "AG3CXXSAg202"
   },
   "outputs": [],
   "source": [
    "for i in anomaly_list:\n",
    "  struct = df.iloc[i][\"building_type\"]\n",
    "  bt = df.iloc[i][\"structure\"]\n",
    "  renova = df.iloc[i][\"direction\"]\n",
    "  df.loc[i,\"building_type\"]=bt\n",
    "  df.loc[i,\"structure\"]=struct\n",
    "  df.loc[i,\"renovation_status\"]=renova\n",
    "  df.loc[i,\"direction\"]=df_correct.iloc[i,11]"
   ]
  },
  {
   "cell_type": "code",
   "execution_count": 161,
   "metadata": {
    "id": "4e_-7cwS8nig"
   },
   "outputs": [
    {
     "data": {
      "text/html": [
       "<div>\n",
       "<style scoped>\n",
       "    .dataframe tbody tr th:only-of-type {\n",
       "        vertical-align: middle;\n",
       "    }\n",
       "\n",
       "    .dataframe tbody tr th {\n",
       "        vertical-align: top;\n",
       "    }\n",
       "\n",
       "    .dataframe thead th {\n",
       "        text-align: right;\n",
       "    }\n",
       "</style>\n",
       "<table border=\"1\" class=\"dataframe\">\n",
       "  <thead>\n",
       "    <tr style=\"text-align: right;\">\n",
       "      <th></th>\n",
       "      <th>district</th>\n",
       "      <th>price</th>\n",
       "      <th>layout</th>\n",
       "      <th>rel_floor</th>\n",
       "      <th>total_floor</th>\n",
       "      <th>area_size</th>\n",
       "      <th>config</th>\n",
       "      <th>building_type</th>\n",
       "      <th>direction</th>\n",
       "      <th>structure</th>\n",
       "      <th>...</th>\n",
       "      <th>stair</th>\n",
       "      <th>unit</th>\n",
       "      <th>proportion</th>\n",
       "      <th>mid_floor</th>\n",
       "      <th>lower_floor</th>\n",
       "      <th>higher_floor</th>\n",
       "      <th>duplex_config</th>\n",
       "      <th>levelling_config</th>\n",
       "      <th>yue_config</th>\n",
       "      <th>split_level_config</th>\n",
       "    </tr>\n",
       "  </thead>\n",
       "  <tbody>\n",
       "    <tr>\n",
       "      <th>804</th>\n",
       "      <td>pudong</td>\n",
       "      <td>13800000.0</td>\n",
       "      <td>4室2厅1厨4卫</td>\n",
       "      <td>低楼层</td>\n",
       "      <td>4</td>\n",
       "      <td>358.84</td>\n",
       "      <td>NaN</td>\n",
       "      <td>联排</td>\n",
       "      <td>'南'</td>\n",
       "      <td>钢混结构</td>\n",
       "      <td>...</td>\n",
       "      <td>NaN</td>\n",
       "      <td>NaN</td>\n",
       "      <td>NaN</td>\n",
       "      <td>0</td>\n",
       "      <td>1</td>\n",
       "      <td>0</td>\n",
       "      <td>0</td>\n",
       "      <td>0</td>\n",
       "      <td>0</td>\n",
       "      <td>0</td>\n",
       "    </tr>\n",
       "    <tr>\n",
       "      <th>807</th>\n",
       "      <td>pudong</td>\n",
       "      <td>14000000.0</td>\n",
       "      <td>4室2厅1厨2卫</td>\n",
       "      <td>中楼层</td>\n",
       "      <td>4</td>\n",
       "      <td>245.0</td>\n",
       "      <td>NaN</td>\n",
       "      <td>NaN</td>\n",
       "      <td>'南 北'</td>\n",
       "      <td>未知结构</td>\n",
       "      <td>...</td>\n",
       "      <td>NaN</td>\n",
       "      <td>NaN</td>\n",
       "      <td>NaN</td>\n",
       "      <td>1</td>\n",
       "      <td>0</td>\n",
       "      <td>0</td>\n",
       "      <td>0</td>\n",
       "      <td>0</td>\n",
       "      <td>0</td>\n",
       "      <td>0</td>\n",
       "    </tr>\n",
       "    <tr>\n",
       "      <th>1166</th>\n",
       "      <td>pudong</td>\n",
       "      <td>14500000.0</td>\n",
       "      <td>6室3厅1厨4卫</td>\n",
       "      <td>低楼层</td>\n",
       "      <td>4</td>\n",
       "      <td>361.0</td>\n",
       "      <td>NaN</td>\n",
       "      <td>联排</td>\n",
       "      <td>'南 北'</td>\n",
       "      <td>钢混结构</td>\n",
       "      <td>...</td>\n",
       "      <td>NaN</td>\n",
       "      <td>NaN</td>\n",
       "      <td>NaN</td>\n",
       "      <td>0</td>\n",
       "      <td>1</td>\n",
       "      <td>0</td>\n",
       "      <td>0</td>\n",
       "      <td>0</td>\n",
       "      <td>0</td>\n",
       "      <td>0</td>\n",
       "    </tr>\n",
       "    <tr>\n",
       "      <th>1169</th>\n",
       "      <td>pudong</td>\n",
       "      <td>26000000.0</td>\n",
       "      <td>4室2厅1厨3卫</td>\n",
       "      <td>低楼层</td>\n",
       "      <td>3</td>\n",
       "      <td>246.03</td>\n",
       "      <td>NaN</td>\n",
       "      <td>双拼</td>\n",
       "      <td>'南'</td>\n",
       "      <td>钢混结构</td>\n",
       "      <td>...</td>\n",
       "      <td>NaN</td>\n",
       "      <td>NaN</td>\n",
       "      <td>NaN</td>\n",
       "      <td>0</td>\n",
       "      <td>1</td>\n",
       "      <td>0</td>\n",
       "      <td>0</td>\n",
       "      <td>0</td>\n",
       "      <td>0</td>\n",
       "      <td>0</td>\n",
       "    </tr>\n",
       "    <tr>\n",
       "      <th>1183</th>\n",
       "      <td>pudong</td>\n",
       "      <td>77000000.0</td>\n",
       "      <td>6室3厅1厨4卫</td>\n",
       "      <td>低楼层</td>\n",
       "      <td>2</td>\n",
       "      <td>527.71</td>\n",
       "      <td>NaN</td>\n",
       "      <td>独栋</td>\n",
       "      <td>'南 北'</td>\n",
       "      <td>钢混结构</td>\n",
       "      <td>...</td>\n",
       "      <td>NaN</td>\n",
       "      <td>NaN</td>\n",
       "      <td>NaN</td>\n",
       "      <td>0</td>\n",
       "      <td>1</td>\n",
       "      <td>0</td>\n",
       "      <td>0</td>\n",
       "      <td>0</td>\n",
       "      <td>0</td>\n",
       "      <td>0</td>\n",
       "    </tr>\n",
       "    <tr>\n",
       "      <th>...</th>\n",
       "      <td>...</td>\n",
       "      <td>...</td>\n",
       "      <td>...</td>\n",
       "      <td>...</td>\n",
       "      <td>...</td>\n",
       "      <td>...</td>\n",
       "      <td>...</td>\n",
       "      <td>...</td>\n",
       "      <td>...</td>\n",
       "      <td>...</td>\n",
       "      <td>...</td>\n",
       "      <td>...</td>\n",
       "      <td>...</td>\n",
       "      <td>...</td>\n",
       "      <td>...</td>\n",
       "      <td>...</td>\n",
       "      <td>...</td>\n",
       "      <td>...</td>\n",
       "      <td>...</td>\n",
       "      <td>...</td>\n",
       "      <td>...</td>\n",
       "    </tr>\n",
       "    <tr>\n",
       "      <th>20890</th>\n",
       "      <td>qingpu</td>\n",
       "      <td>8600000.0</td>\n",
       "      <td>3室2厅1厨3卫</td>\n",
       "      <td>低楼层</td>\n",
       "      <td>4</td>\n",
       "      <td>182.54</td>\n",
       "      <td>NaN</td>\n",
       "      <td>叠拼</td>\n",
       "      <td>'南'</td>\n",
       "      <td>钢混结构</td>\n",
       "      <td>...</td>\n",
       "      <td>NaN</td>\n",
       "      <td>NaN</td>\n",
       "      <td>NaN</td>\n",
       "      <td>0</td>\n",
       "      <td>1</td>\n",
       "      <td>0</td>\n",
       "      <td>0</td>\n",
       "      <td>0</td>\n",
       "      <td>0</td>\n",
       "      <td>0</td>\n",
       "    </tr>\n",
       "    <tr>\n",
       "      <th>20923</th>\n",
       "      <td>qingpu</td>\n",
       "      <td>10000000.0</td>\n",
       "      <td>4室2厅3厨3卫</td>\n",
       "      <td>低楼层</td>\n",
       "      <td>1</td>\n",
       "      <td>294.16</td>\n",
       "      <td>NaN</td>\n",
       "      <td>NaN</td>\n",
       "      <td>'南'</td>\n",
       "      <td>钢混结构</td>\n",
       "      <td>...</td>\n",
       "      <td>NaN</td>\n",
       "      <td>NaN</td>\n",
       "      <td>NaN</td>\n",
       "      <td>0</td>\n",
       "      <td>1</td>\n",
       "      <td>0</td>\n",
       "      <td>0</td>\n",
       "      <td>0</td>\n",
       "      <td>0</td>\n",
       "      <td>0</td>\n",
       "    </tr>\n",
       "    <tr>\n",
       "      <th>21008</th>\n",
       "      <td>qingpu</td>\n",
       "      <td>33000000.0</td>\n",
       "      <td>4室2厅1厨4卫</td>\n",
       "      <td>低楼层</td>\n",
       "      <td>1</td>\n",
       "      <td>563.21</td>\n",
       "      <td>NaN</td>\n",
       "      <td>NaN</td>\n",
       "      <td>'南'</td>\n",
       "      <td>钢混结构</td>\n",
       "      <td>...</td>\n",
       "      <td>NaN</td>\n",
       "      <td>NaN</td>\n",
       "      <td>NaN</td>\n",
       "      <td>0</td>\n",
       "      <td>1</td>\n",
       "      <td>0</td>\n",
       "      <td>0</td>\n",
       "      <td>0</td>\n",
       "      <td>0</td>\n",
       "      <td>0</td>\n",
       "    </tr>\n",
       "    <tr>\n",
       "      <th>21009</th>\n",
       "      <td>qingpu</td>\n",
       "      <td>24500000.0</td>\n",
       "      <td>3室2厅1厨3卫</td>\n",
       "      <td>低楼层</td>\n",
       "      <td>3</td>\n",
       "      <td>229.75</td>\n",
       "      <td>NaN</td>\n",
       "      <td>NaN</td>\n",
       "      <td>'南'</td>\n",
       "      <td>钢混结构</td>\n",
       "      <td>...</td>\n",
       "      <td>NaN</td>\n",
       "      <td>NaN</td>\n",
       "      <td>NaN</td>\n",
       "      <td>0</td>\n",
       "      <td>1</td>\n",
       "      <td>0</td>\n",
       "      <td>0</td>\n",
       "      <td>0</td>\n",
       "      <td>0</td>\n",
       "      <td>0</td>\n",
       "    </tr>\n",
       "    <tr>\n",
       "      <th>21244</th>\n",
       "      <td>qingpu</td>\n",
       "      <td>23000000.0</td>\n",
       "      <td>4室2厅1厨4卫</td>\n",
       "      <td>低楼层</td>\n",
       "      <td>3</td>\n",
       "      <td>330.57</td>\n",
       "      <td>NaN</td>\n",
       "      <td>双拼</td>\n",
       "      <td>'南'</td>\n",
       "      <td>钢混结构</td>\n",
       "      <td>...</td>\n",
       "      <td>NaN</td>\n",
       "      <td>NaN</td>\n",
       "      <td>NaN</td>\n",
       "      <td>0</td>\n",
       "      <td>1</td>\n",
       "      <td>0</td>\n",
       "      <td>0</td>\n",
       "      <td>0</td>\n",
       "      <td>0</td>\n",
       "      <td>0</td>\n",
       "    </tr>\n",
       "  </tbody>\n",
       "</table>\n",
       "<p>83 rows × 36 columns</p>\n",
       "</div>"
      ],
      "text/plain": [
       "      district       price    layout rel_floor total_floor area_size config  \\\n",
       "804     pudong  13800000.0  4室2厅1厨4卫       低楼层           4    358.84    NaN   \n",
       "807     pudong  14000000.0  4室2厅1厨2卫       中楼层           4     245.0    NaN   \n",
       "1166    pudong  14500000.0  6室3厅1厨4卫       低楼层           4     361.0    NaN   \n",
       "1169    pudong  26000000.0  4室2厅1厨3卫       低楼层           3    246.03    NaN   \n",
       "1183    pudong  77000000.0  6室3厅1厨4卫       低楼层           2    527.71    NaN   \n",
       "...        ...         ...       ...       ...         ...       ...    ...   \n",
       "20890   qingpu   8600000.0  3室2厅1厨3卫       低楼层           4    182.54    NaN   \n",
       "20923   qingpu  10000000.0  4室2厅3厨3卫       低楼层           1    294.16    NaN   \n",
       "21008   qingpu  33000000.0  4室2厅1厨4卫       低楼层           1    563.21    NaN   \n",
       "21009   qingpu  24500000.0  3室2厅1厨3卫       低楼层           3    229.75    NaN   \n",
       "21244   qingpu  23000000.0  4室2厅1厨4卫       低楼层           3    330.57    NaN   \n",
       "\n",
       "      building_type direction structure  ... stair unit proportion mid_floor  \\\n",
       "804              联排       '南'      钢混结构  ...   NaN  NaN        NaN         0   \n",
       "807             NaN     '南 北'      未知结构  ...   NaN  NaN        NaN         1   \n",
       "1166             联排     '南 北'      钢混结构  ...   NaN  NaN        NaN         0   \n",
       "1169             双拼       '南'      钢混结构  ...   NaN  NaN        NaN         0   \n",
       "1183             独栋     '南 北'      钢混结构  ...   NaN  NaN        NaN         0   \n",
       "...             ...       ...       ...  ...   ...  ...        ...       ...   \n",
       "20890            叠拼       '南'      钢混结构  ...   NaN  NaN        NaN         0   \n",
       "20923           NaN       '南'      钢混结构  ...   NaN  NaN        NaN         0   \n",
       "21008           NaN       '南'      钢混结构  ...   NaN  NaN        NaN         0   \n",
       "21009           NaN       '南'      钢混结构  ...   NaN  NaN        NaN         0   \n",
       "21244            双拼       '南'      钢混结构  ...   NaN  NaN        NaN         0   \n",
       "\n",
       "      lower_floor higher_floor duplex_config levelling_config yue_config  \\\n",
       "804             1            0             0                0          0   \n",
       "807             0            0             0                0          0   \n",
       "1166            1            0             0                0          0   \n",
       "1169            1            0             0                0          0   \n",
       "1183            1            0             0                0          0   \n",
       "...           ...          ...           ...              ...        ...   \n",
       "20890           1            0             0                0          0   \n",
       "20923           1            0             0                0          0   \n",
       "21008           1            0             0                0          0   \n",
       "21009           1            0             0                0          0   \n",
       "21244           1            0             0                0          0   \n",
       "\n",
       "      split_level_config  \n",
       "804                    0  \n",
       "807                    0  \n",
       "1166                   0  \n",
       "1169                   0  \n",
       "1183                   0  \n",
       "...                  ...  \n",
       "20890                  0  \n",
       "20923                  0  \n",
       "21008                  0  \n",
       "21009                  0  \n",
       "21244                  0  \n",
       "\n",
       "[83 rows x 36 columns]"
      ]
     },
     "execution_count": 161,
     "metadata": {},
     "output_type": "execute_result"
    }
   ],
   "source": [
    "df.iloc[anomaly_list]"
   ]
  },
  {
   "cell_type": "code",
   "execution_count": 162,
   "metadata": {
    "colab": {
     "base_uri": "https://localhost:8080/"
    },
    "id": "OFk3-LNUlo9z",
    "outputId": "c1dd5d24-6f61-47dd-b1ab-84b01c45b2eb"
   },
   "outputs": [
    {
     "name": "stdout",
     "output_type": "stream",
     "text": [
      "['nan' '双拼' '叠拼' '塔楼' '平房' '板塔结合' '板楼' '独栋' '联排']\n"
     ]
    }
   ],
   "source": [
    "#building type\n",
    "bt = df[\"building_type\"]\n",
    "btt = np.array(bt)\n",
    "for i in range(len(btt)):\n",
    "  btt[i]=str(btt[i])\n",
    "print(np.unique(btt))"
   ]
  },
  {
   "cell_type": "code",
   "execution_count": 163,
   "metadata": {
    "id": "cMCtgbI__4iF"
   },
   "outputs": [],
   "source": [
    "building_type = df[\"building_type\"]\n",
    "df2 = pd.get_dummies(pd.Series(building_type))\n",
    "df2.columns=[\"doublepin\",\"diepin\",\"talou\",\"pingfang\",\"bantajiehe\",\"banlou\",\"dudong\",\"lianpai\"]\n",
    "df = pd.concat([df,df2],axis=1)"
   ]
  },
  {
   "cell_type": "code",
   "execution_count": 164,
   "metadata": {
    "id": "CogtCrRZtkLi"
   },
   "outputs": [
    {
     "name": "stdout",
     "output_type": "stream",
     "text": [
      "['nan' '东' '东 东北' '东 东南' '东 东南 东北' '东 东南 北' '东 东南 南' '东 东南 南 北' '东 东南 西'\n",
      " '东 北' '东 北 东北' '东 北 东南' '东 北 南' '东 南' '东 南 东南' '东 南 北' '东 南 西' '东 南 西 北'\n",
      " '东 南 西北' '东 西' '东 西 北' '东 西 南' '东 西 西南' '东 西北' '东北' '东北 东南' '东北 北'\n",
      " '东北 西南' '东南' '东南 东 南 西南' '东南 东北' '东南 东北 西北' '东南 北' '东南 北 东北' '东南 南'\n",
      " '东南 南 北' '东南 西' '东南 西北' '东南 西南' '北' '北 东' '北 东 西' '北 东北' '北 南' '北 南 东'\n",
      " '北 西' '北 西北' '北 西南' '南' '南 东' '南 东 北' '南 东 北 西' '南 东 西' '南 东北' '南 东北 北'\n",
      " '南 东南' '南 北' '南 北 东' '南 北 东南' '南 北 西' '南 北 西南' '南 西' '南 西 北' '南 西 西北'\n",
      " '南 西 西南' '南 西北' '南 西南' '南 西南 北' '南 西南 西' '南 西南 西 东北' '南 西南 西 北' '南 西南 西北'\n",
      " '西' '西 东' '西 东 东南' '西 东北' '西 北' '西 北 南' '西 南' '西 南 北' '西 西北' '西 西北 东北'\n",
      " '西 西北 北' '西 西南' '西北' '西北 东北' '西北 东北 北 西 东' '西北 北' '西南' '西南 东北' '西南 北'\n",
      " '西南 南' '西南 西' '西南 西 北' '西南 西 西北' '西南 西北']\n"
     ]
    }
   ],
   "source": [
    "direct = df[\"direction\"]\n",
    "directt = np.array(direct)\n",
    "for i in range(len(directt)):\n",
    "  directt[i]=str(directt[i])\n",
    "  t=directt[i]\n",
    "  t = t.strip()\n",
    "  t = t.strip('\"')\n",
    "  t = t.strip(\"'\")\n",
    "  directt[i]=t\n",
    "print(np.unique(directt))\n"
   ]
  },
  {
   "cell_type": "code",
   "execution_count": 165,
   "metadata": {
    "id": "bKut1HAIyQxE"
   },
   "outputs": [],
   "source": [
    "east = []\n",
    "southeast = []\n",
    "south = []\n",
    "southwest = []\n",
    "west = []\n",
    "northwest = []\n",
    "north = []\n",
    "northeast = []\n",
    "for i in range(len(directt)):\n",
    "  str1 = directt[i]\n",
    "  arr1 = str1.split()\n",
    "  for j in range(len(arr1)):\n",
    "    if arr1[j]==\"东\":\n",
    "      east.append(1)\n",
    "    elif arr1[j]==\"西\":\n",
    "      west.append(1)\n",
    "    elif arr1[j]==\"南\":\n",
    "      south.append(1)\n",
    "    elif arr1[j]==\"北\":\n",
    "      north.append(1)\n",
    "    elif arr1[j]==\"东南\":\n",
    "      southeast.append(1)\n",
    "    elif arr1[j]==\"西南\":\n",
    "      southwest.append(1)\n",
    "    elif arr1[j]==\"西北\":\n",
    "      northwest.append(1)\n",
    "    elif arr1[j]==\"东北\":\n",
    "      northeast.append(1)\n",
    "  if len(east)==i:\n",
    "    east.append(0)\n",
    "  if len(west)==i:\n",
    "    west.append(0)\n",
    "  if len(north)==i:\n",
    "    north.append(0)\n",
    "  if len(south)==i:\n",
    "    south.append(0)\n",
    "  if len(northeast)==i:\n",
    "    northeast.append(0)\n",
    "  if len(southeast)==i:\n",
    "    southeast.append(0)\n",
    "  if len(southwest)==i:\n",
    "    southwest.append(0)\n",
    "  if len(northwest)==i:\n",
    "    northwest.append(0)\n",
    "df[\"south\"]=south\n",
    "df[\"west\"]=west\n",
    "df[\"north\"]=north\n",
    "df[\"east\"]=east\n",
    "df[\"northeast\"]=northeast\n",
    "df[\"southeast\"]=southeast\n",
    "df[\"northwest\"]=northwest\n",
    "df[\"southwest\"]=southwest  "
   ]
  },
  {
   "cell_type": "code",
   "execution_count": 166,
   "metadata": {
    "colab": {
     "base_uri": "https://localhost:8080/"
    },
    "id": "9fDipoYF2Rwx",
    "outputId": "38ef9d7e-48b2-40bd-c634-9cb497ea9337"
   },
   "outputs": [
    {
     "name": "stdout",
     "output_type": "stream",
     "text": [
      "['未知结构' '框架结构' '混合结构' '砖木结构' '砖混结构' '钢混结构' '钢结构']\n"
     ]
    }
   ],
   "source": [
    "struct = df[\"structure\"]\n",
    "struc = np.array(struct)\n",
    "for i in range(len(struct)):\n",
    "  struc[i] = str(struc[i])\n",
    "print(np.unique(struc))"
   ]
  },
  {
   "cell_type": "code",
   "execution_count": 167,
   "metadata": {
    "id": "kwCT9v_1BFps"
   },
   "outputs": [],
   "source": [
    "df2 = pd.get_dummies(pd.Series(struct))\n",
    "df2.columns=[\"unknown_struct\",\"frame_struct\",\"mixed_struct\",\"brickwood_struct\",\"brickmix_struct\",\"steelmix_struct\",\"steel_struct\"]\n",
    "df = pd.concat([df,df2],axis=1)"
   ]
  },
  {
   "cell_type": "code",
   "execution_count": 168,
   "metadata": {
    "colab": {
     "base_uri": "https://localhost:8080/"
    },
    "id": "Z7ZeXK-q5oXb",
    "outputId": "bd8e5296-6eb7-4f22-b368-17022e468565"
   },
   "outputs": [
    {
     "name": "stdout",
     "output_type": "stream",
     "text": [
      "['其他' '毛坯' '简装' '精装']\n"
     ]
    }
   ],
   "source": [
    "renov = df[\"renovation_status\"]\n",
    "reno = np.array(renov)\n",
    "for i in range(len(reno)):\n",
    "  reno[i]=str(reno[i])\n",
    "print(np.unique(reno))"
   ]
  },
  {
   "cell_type": "code",
   "execution_count": 169,
   "metadata": {
    "id": "hfvrxhkfBKqG"
   },
   "outputs": [],
   "source": [
    "df2 = pd.get_dummies(pd.Series(renov))\n",
    "df2.columns = [\"other\",\"maopei\",\"jianzhuang\",\"jingzhuang\"]\n",
    "df = pd.concat([df,df2],axis=1)"
   ]
  },
  {
   "cell_type": "code",
   "execution_count": 170,
   "metadata": {
    "colab": {
     "base_uri": "https://localhost:8080/"
    },
    "id": "-CBeY2ob7zlc",
    "outputId": "67e0e83b-7626-47fe-d636-f12fe8d81ba6"
   },
   "outputs": [
    {
     "name": "stdout",
     "output_type": "stream",
     "text": [
      "['动迁安置房' '售后公房' '商品房']\n"
     ]
    }
   ],
   "source": [
    "tp = df[\"transact_property\"]\n",
    "tpp = np.array(tp)\n",
    "for i in range(len(tpp)):\n",
    "  tpp[i]=str(tpp[i])\n",
    "print(np.unique(tpp))"
   ]
  },
  {
   "cell_type": "code",
   "execution_count": 171,
   "metadata": {
    "id": "xp4ZVGzGBWnp"
   },
   "outputs": [],
   "source": [
    "df2 = pd.get_dummies(pd.Series(tp))\n",
    "df2.columns = [\"resettle_housing\",\"public_housing\",\"commercial_housing\"]\n",
    "df = pd.concat([df,df2],axis=1)"
   ]
  },
  {
   "cell_type": "code",
   "execution_count": 172,
   "metadata": {
    "colab": {
     "base_uri": "https://localhost:8080/"
    },
    "id": "cgSgYyXp8TBW",
    "outputId": "b1d717d6-f29e-4aa8-c1ed-d5ac1234236b"
   },
   "outputs": [
    {
     "name": "stdout",
     "output_type": "stream",
     "text": [
      "['nan' '别墅' '商业办公类' '新式里弄' '旧式里弄' '普通住宅' '老公寓' '花园洋房']\n"
     ]
    }
   ],
   "source": [
    "func = df[\"function\"]\n",
    "funcc = np.array(func)\n",
    "for i in range(len(funcc)):\n",
    "  funcc[i]=str(funcc[i])\n",
    "print(np.unique(funcc))"
   ]
  },
  {
   "cell_type": "code",
   "execution_count": 173,
   "metadata": {
    "id": "_sN3gT2YBefx"
   },
   "outputs": [],
   "source": [
    "df2 = pd.get_dummies(pd.Series(func))\n",
    "df2.columns = [\"villa\",\"office\",\"n_linong\",\"o_linong\",\"residential\",\"apartment\",\"garden_house\"]\n",
    "df = pd.concat([df,df2],axis=1)"
   ]
  },
  {
   "cell_type": "code",
   "execution_count": 174,
   "metadata": {
    "colab": {
     "base_uri": "https://localhost:8080/"
    },
    "id": "tMmbW-LT8kwi",
    "outputId": "429c7fb1-7f46-47da-fd57-d80361a9e118"
   },
   "outputs": [
    {
     "name": "stdout",
     "output_type": "stream",
     "text": [
      "['nan' '未满两年' '满两年' '满五年']\n"
     ]
    }
   ],
   "source": [
    "agel = df[\"age_limit\"]\n",
    "agell = np.array(agel)\n",
    "for i in range(len(agell)):\n",
    "  agell[i]=str(agell[i])\n",
    "print(np.unique(agell))"
   ]
  },
  {
   "cell_type": "code",
   "execution_count": 175,
   "metadata": {
    "id": "nrTLXOkdBkcJ"
   },
   "outputs": [],
   "source": [
    "df2 = pd.get_dummies(pd.Series(agel))\n",
    "df2.columns = [\"lessthan_two\",\"beyong_two\",\"beyond_five\"]\n",
    "df = pd.concat([df,df2],axis=1)"
   ]
  },
  {
   "cell_type": "code",
   "execution_count": 176,
   "metadata": {
    "colab": {
     "base_uri": "https://localhost:8080/"
    },
    "id": "5-aUYgqC859T",
    "outputId": "1226f664-be4a-4337-a440-a726215e59e3"
   },
   "outputs": [
    {
     "name": "stdout",
     "output_type": "stream",
     "text": [
      "['共有' '非共有']\n"
     ]
    }
   ],
   "source": [
    "prp = df[\"property_belong\"]\n",
    "prpp = np.array(prp)\n",
    "for i in range(len(prpp)):\n",
    "  prpp[i]=str(prpp[i])\n",
    "print(np.unique(prpp))"
   ]
  },
  {
   "cell_type": "code",
   "execution_count": 177,
   "metadata": {
    "id": "RjQQUYqaBqPD"
   },
   "outputs": [],
   "source": [
    "df2 = pd.get_dummies(pd.Series(prp))\n",
    "df2.columns = [\"shared\",\"not_shared\"]\n",
    "df = pd.concat([df,df2],axis=1)"
   ]
  },
  {
   "cell_type": "code",
   "execution_count": 178,
   "metadata": {
    "colab": {
     "base_uri": "https://localhost:8080/"
    },
    "id": "__ZZmOyl9PMt",
    "outputId": "d653b549-3559-4137-888e-a905c9944904"
   },
   "outputs": [
    {
     "name": "stdout",
     "output_type": "stream",
     "text": [
      "['已上传房本照片' '未上传房本照片']\n"
     ]
    }
   ],
   "source": [
    "upp = df[\"upload_photo\"]\n",
    "uppp = np.array(upp)\n",
    "for i in range(len(uppp)):\n",
    "  uppp[i]=str(uppp[i])\n",
    "print(np.unique(uppp))"
   ]
  },
  {
   "cell_type": "code",
   "execution_count": 179,
   "metadata": {
    "id": "PnEbX_1HBuW2"
   },
   "outputs": [],
   "source": [
    "df2 = pd.get_dummies(pd.Series(upp))\n",
    "df2.columns=[\"uploaded\",\"not_uploaded\"]\n",
    "df = pd.concat([df,df2],axis=1)"
   ]
  },
  {
   "cell_type": "code",
   "execution_count": 180,
   "metadata": {
    "colab": {
     "base_uri": "https://localhost:8080/"
    },
    "id": "7epU5wmX9lQy",
    "outputId": "b6216df7-1fc3-4623-a532-ad3880467770"
   },
   "outputs": [
    {
     "name": "stdout",
     "output_type": "stream",
     "text": [
      "['' '中环至外环' '内环内' '内环至中环' '外环外']\n"
     ]
    }
   ],
   "source": [
    "locc = df[\"loc\"]\n",
    "loccc = np.array(locc)\n",
    "for i in range(len(loccc)):\n",
    "  loccc[i]=str(loccc[i])\n",
    "print(np.unique(loccc))"
   ]
  },
  {
   "cell_type": "code",
   "execution_count": 181,
   "metadata": {
    "colab": {
     "base_uri": "https://localhost:8080/"
    },
    "id": "VR7nHW8moJzn",
    "outputId": "76f85af0-5242-428c-956e-3eb4e84d1125"
   },
   "outputs": [],
   "source": [
    "locc=locc.replace(\"\", np.nan)"
   ]
  },
  {
   "cell_type": "code",
   "execution_count": 182,
   "metadata": {
    "id": "Myu6jEnbBy4n"
   },
   "outputs": [],
   "source": [
    "df2 = pd.get_dummies(pd.Series(locc))\n",
    "df2.columns = [\"central_outer\",\"inner\",\"inner_central\",\"outer\"]\n",
    "df = pd.concat([df,df2],axis=1)"
   ]
  },
  {
   "cell_type": "code",
   "execution_count": 183,
   "metadata": {
    "colab": {
     "base_uri": "https://localhost:8080/"
    },
    "id": "FJdlP81n9zhj",
    "outputId": "b4dfb4da-3dab-4fc2-c78b-03ee54897d41"
   },
   "outputs": [
    {
     "name": "stdout",
     "output_type": "stream",
     "text": [
      "['' '下班后可看' '具体信息请致电经纪人' '只周末可看' '提前预约随时可看' '有租户需预约']\n"
     ]
    }
   ],
   "source": [
    "avt = df[\"avail_visit_time\"]\n",
    "avtt = np.array(avt)\n",
    "for i in range(len(avtt)):\n",
    "  avtt[i]=str(avtt[i])\n",
    "  tt = avtt[i]\n",
    "  tt = tt.strip('\"')\n",
    "  tt = tt.strip(']')\n",
    "  tt = tt.strip(\"'\")\n",
    "  tt = tt.strip(\"\\\\\")\n",
    "  df.loc[i,\"avail_visit_time\"]=tt\n",
    "  avtt[i]=tt\n",
    "print(np.unique(avtt))"
   ]
  },
  {
   "cell_type": "code",
   "execution_count": 184,
   "metadata": {
    "colab": {
     "base_uri": "https://localhost:8080/"
    },
    "id": "9XIxcyCxo9VA",
    "outputId": "4c9df731-2da8-4d4d-afd2-13abc29912ec"
   },
   "outputs": [],
   "source": [
    "avt=avt.replace(\"\",np.nan)"
   ]
  },
  {
   "cell_type": "code",
   "execution_count": 185,
   "metadata": {
    "id": "OaKtm-odB4iI"
   },
   "outputs": [],
   "source": [
    "df2 = pd.get_dummies(pd.Series(avt))\n",
    "df2.columns = [\"after_work\",\"call_agent\",\"only_weekend\",\"reservation\",\"rented\"]\n",
    "df = pd.concat([df,df2],axis=1)"
   ]
  },
  {
   "cell_type": "code",
   "execution_count": 186,
   "metadata": {
    "colab": {
     "base_uri": "https://localhost:8080/"
    },
    "id": "nycec2zOCddt",
    "outputId": "a9b60889-d334-490f-c3b5-9dd09a6997ee"
   },
   "outputs": [
    {
     "name": "stdout",
     "output_type": "stream",
     "text": [
      "['baoshan' 'changning' 'chongming' 'fengxian' 'hongkou' 'huangpu'\n",
      " 'jiading' 'jingan' 'jinshan' 'minhang' 'pudong' 'putuo' 'qingpu'\n",
      " 'songjiang' 'xuhui' 'yangpu']\n"
     ]
    }
   ],
   "source": [
    "district = df[\"district\"]\n",
    "dist = np.array(district)\n",
    "for i in range(len(dist)):\n",
    "  dist[i]=str(dist[i])\n",
    "print(np.unique(dist))"
   ]
  },
  {
   "cell_type": "code",
   "execution_count": 187,
   "metadata": {
    "id": "ylY0MI_KCfxf"
   },
   "outputs": [],
   "source": [
    "df2 = pd.get_dummies(pd.Series(district))\n",
    "df = pd.concat([df,df2],axis=1)"
   ]
  },
  {
   "cell_type": "code",
   "execution_count": 188,
   "metadata": {
    "id": "falxcLSnZB2R"
   },
   "outputs": [],
   "source": [
    "# drop a dummy var for each categorical varariable to avoid multicolinearity\n",
    "df = df.drop(\"lower_floor\",axis=1)\n",
    "df = df.drop(\"yue_config\",axis=1)\n",
    "df = df.drop(\"doublepin\",axis=1)\n",
    "df = df.drop(\"east\",axis=1)\n",
    "df = df.drop(\"unknown_struct\",axis=1)\n",
    "df = df.drop(\"other\",axis=1)\n",
    "df = df.drop(\"resettle_housing\",axis=1)\n",
    "df = df.drop(\"villa\",axis=1)\n",
    "df = df.drop(\"lessthan_two\",axis=1)\n",
    "df = df.drop(\"not_shared\",axis=1)\n",
    "df = df.drop(\"not_uploaded\",axis=1)\n",
    "df = df.drop(\"outer\",axis=1)\n",
    "df = df.drop(\"rented\",axis=1)\n",
    "df = df.drop(\"yangpu\",axis=1)"
   ]
  },
  {
   "cell_type": "code",
   "execution_count": 189,
   "metadata": {
    "id": "q-agVkmau6Bu"
   },
   "outputs": [],
   "source": [
    "dropped_col = [\"district\",\"no_of_units\",\"rel_floor\",\"config\",\"layout\",\"building_type\",\"direction\",\"structure\",\"renovation_status\",\"transact_property\",\"function\",\"age_limit\",\"property_belong\",\"upload_photo\",\"loc\",\"avail_visit_time\"]\n",
    "df = df.drop(dropped_col,axis=1)\n",
    "df = df.apply(pd.to_numeric)"
   ]
  },
  {
   "cell_type": "code",
   "execution_count": 190,
   "metadata": {},
   "outputs": [],
   "source": [
    "df.to_csv(\"C:/Users/Lenovo/Desktop/git/STAT4011_Project1/data/Lianjia_cleaned.csv\",index=False)"
   ]
  }
 ],
 "metadata": {
  "colab": {
   "provenance": []
  },
  "kernelspec": {
   "display_name": "Python 3 (ipykernel)",
   "language": "python",
   "name": "python3"
  },
  "language_info": {
   "codemirror_mode": {
    "name": "ipython",
    "version": 3
   },
   "file_extension": ".py",
   "mimetype": "text/x-python",
   "name": "python",
   "nbconvert_exporter": "python",
   "pygments_lexer": "ipython3",
   "version": "3.9.7"
  }
 },
 "nbformat": 4,
 "nbformat_minor": 1
}
