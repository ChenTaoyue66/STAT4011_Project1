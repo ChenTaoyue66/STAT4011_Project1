{
 "cells": [
  {
   "cell_type": "code",
   "execution_count": 193,
   "metadata": {
    "id": "gD6vekxDr9Q5"
   },
   "outputs": [],
   "source": [
    "#importing\n",
    "import numpy as np\n",
    "import pandas as pd\n",
    "\n",
    "data_wd = \"C:/Users/Lenovo/Desktop/git/STAT4011_Project1/data/Lianjia_raw.csv\"\n",
    "df1 = pd.read_csv(data_wd,header=None).astype(\"str\")\n",
    "\n",
    "dropped_column = [2,3,5,11,18,19,20,21,22,23,24,25,26,27,28,29,30,31,32,33,34,35,36,37,38,39,40,41,42,43,44,45,46,48,50,52,54,56,58,59,60,62,63,64,65,66,67,69]\n",
    "df = df1.drop(dropped_column,axis=1)\n",
    "df.index = range(21299)\n",
    "df.columns = [\"city\",\"district\",\"price\",\"layout\",\"rel_floor\",\"total_floor\",\"area_size\",\"config\",\"building_type\",\"direction\",\"structure\",\"renovation_status\",\"no_of_units\",\"elevator\",\"date_on_market\",\"transact_property\",\"last_transact_date\",\"function\",\"age_limit\",\"property_belong\",\"upload_photo\",\"loc\",\"avail_visit_time\"]"
   ]
  },
  {
   "cell_type": "code",
   "execution_count": 194,
   "metadata": {
    "id": "PGlzCQQCTlNV"
   },
   "outputs": [],
   "source": [
    "#converting price to float\n",
    "pr = df[\"price\"]\n",
    "#for i in range(len(pr)):\n",
    "#  if(pr[i].find(\"万\")==-1):\n",
    "#    print(i)\n",
    "#df.iloc[2121],改一下那条record\n",
    "r1_reformat = [ \"shanghai\",\"pudong\",\"371万\",\"2室2厅1厨1卫\",\"中楼层\",\"共6层\",\"72.88㎡\",\"平层\",\"板楼\",\"南 北\",\"砖混结构\",\"简装\",\"一梯两户\",\"无\",\"2022-07-09\",\"商品房\",\"2006-06-06\",\"普通住宅\",\"满五年\",\"共有\",\"已上传房本照片\",\"\\xa0外环外\",\"\\n\" ]\n",
    "r2_reformat = [\"shanghai\",\"pudong\",\"213万\",\"2室1厅1厨1卫\",\"中楼层\",\"共6层\",\"70.31㎡\",\"平层\",\"板楼\",\"南\",\"砖混结构\",\"简装\",\"一梯四户\",\"无\",\"2022-03-03\",\"商品房\",\"2020-03-23\",\"普通住宅\",\"满两年\",\"非共有\",\"已上传房本照片\",\"\\n\",\"\\n\"]\n",
    "df.iloc[2121]=r1_reformat\n",
    "df.iloc[2165]=r2_reformat\n",
    "for i in range(len(pr)):\n",
    "  price = df.iloc[i][\"price\"]\n",
    "  price = price.strip()\n",
    "  price = price[:-1]\n",
    "  price = float(price)*10000\n",
    "  df.loc[i,\"price\"]=price"
   ]
  },
  {
   "cell_type": "code",
   "execution_count": 195,
   "metadata": {
    "id": "QgcZLEmbpHVl"
   },
   "outputs": [],
   "source": [
    "# area size to float\n",
    "asi = df[\"area_size\"]\n",
    "for i in range(len(asi)):\n",
    "  size = df.iloc[i][\"area_size\"]\n",
    "  size = size.strip()\n",
    "  size = size.strip(\"'\")\n",
    "  size = size[:-1]\n",
    "  size = float(size)\n",
    "  df.loc[i,\"area_size\"]=size"
   ]
  },
  {
   "cell_type": "code",
   "execution_count": 196,
   "metadata": {
    "id": "nWaqz77WqM5T"
   },
   "outputs": [],
   "source": [
    "#layout_conversion\n",
    "lo = df[\"layout\"]\n",
    "for i in range(len(lo)):\n",
    "  layout = df.iloc[i][\"layout\"]\n",
    "  layout = layout.strip()\n",
    "  layout = layout.strip('\"')\n",
    "  layout = layout.strip(\"[\")\n",
    "  layout = layout.strip(\"'\")\n",
    "  df.loc[i,\"layout\"]=layout"
   ]
  },
  {
   "cell_type": "code",
   "execution_count": 197,
   "metadata": {
    "colab": {
     "base_uri": "https://localhost:8080/"
    },
    "id": "QPmEgZq4rnlZ",
    "outputId": "2b982a45-b0a9-41eb-9bd7-25536a4ab1d4"
   },
   "outputs": [
    {
     "name": "stdout",
     "output_type": "stream",
     "text": [
      "13972\n"
     ]
    }
   ],
   "source": [
    "for i in range(len(lo)):\n",
    "  layout = df.iloc[i][\"layout\"]\n",
    "  if(len(layout)!=8):\n",
    "    print(i)\n",
    "#室厅厨卫 4*n matrices, item 13972 as an exception"
   ]
  },
  {
   "cell_type": "code",
   "execution_count": 198,
   "metadata": {
    "id": "onX3024BBYgs"
   },
   "outputs": [],
   "source": [
    "#split the column into 4 columns\n",
    "lo = df[\"layout\"]\n",
    "bedroom_no = []\n",
    "parlour_no = []\n",
    "kitchen_no = []\n",
    "toilet_no = []\n",
    "for i in range(len(lo)):\n",
    "  strr = lo[i]\n",
    "  if i == 13972:\n",
    "    bedroom_no.append(10)\n",
    "    parlour_no.append(1)\n",
    "    kitchen_no.append(0)\n",
    "    toilet_no.append(1)\n",
    "  #elif strr.find(\"室\")!=1 or strr.find(\"厅\")!=3 or strr.find(\"厨\")!=5 or strr.find(\"卫\")!=7:\n",
    "  else:\n",
    "    bedroom_no.append(int(strr[0]))\n",
    "    parlour_no.append(int(strr[2]))\n",
    "    kitchen_no.append(int(strr[4]))\n",
    "    toilet_no.append(int(strr[6]))\n",
    "df['bedrm_no']=bedroom_no\n",
    "df['parlour_no']=parlour_no\n",
    "df['kitchen_no']=kitchen_no\n",
    "df['toilet_no']=toilet_no"
   ]
  },
  {
   "cell_type": "code",
   "execution_count": 199,
   "metadata": {
    "id": "DD5CfFEoJpI8"
   },
   "outputs": [],
   "source": [
    "#strip formatting rel floor\n",
    "rf = df[\"rel_floor\"]\n",
    "for i in range(len(rf)):\n",
    "  relf = df.iloc[i][\"rel_floor\"]\n",
    "  relf = relf.strip()\n",
    "  relf = relf.strip(\"'\")\n",
    "  df.loc[i,\"rel_floor\"]= relf"
   ]
  },
  {
   "cell_type": "code",
   "execution_count": 200,
   "metadata": {},
   "outputs": [],
   "source": [
    "#total_floor\n",
    "tf = df[\"total_floor\"]\n",
    "for i in range(len(tf)):\n",
    "  totf = df.iloc[i][\"total_floor\"]\n",
    "  totf = totf.strip()\n",
    "  totf = totf.strip(\"'\")\n",
    "  totf = totf.strip(\")\")\n",
    "  totf = totf[:-1]\n",
    "  totf = int(totf[1:])\n",
    "  df.loc[i,\"total_floor\"] = totf"
   ]
  },
  {
   "cell_type": "code",
   "execution_count": 201,
   "metadata": {},
   "outputs": [],
   "source": [
    "#strip formatting config\n",
    "conf = df[\"config\"]\n",
    "for i in range(len(conf)):\n",
    "  cf = df.iloc[i][\"config\"]\n",
    "  cf = cf.strip()\n",
    "  cf = cf.strip(\"'\")\n",
    "  df.loc[i,\"config\"]= cf"
   ]
  },
  {
   "cell_type": "code",
   "execution_count": 202,
   "metadata": {},
   "outputs": [],
   "source": [
    "#strip formatting building_type\n",
    "building_type = df[\"building_type\"]\n",
    "for j in range(len(building_type)):\n",
    "  bt = df.iloc[j][\"building_type\"]\n",
    "  bt = bt.strip()\n",
    "  bt = bt.strip(\"'\")\n",
    "  df.loc[j,\"building_type\"] = bt"
   ]
  },
  {
   "cell_type": "markdown",
   "metadata": {},
   "source": [
    "# Direction \"strip\" is pre-processed here"
   ]
  },
  {
   "cell_type": "code",
   "execution_count": 203,
   "metadata": {},
   "outputs": [],
   "source": [
    "#strip formatting direction\n",
    "direction = df[\"direction\"]\n",
    "for j in range(len(direction)):\n",
    "  dr = df.iloc[j][\"direction\"]\n",
    "  dr = dr.strip()\n",
    "  dr = dr.strip(\"'\")\n",
    "  df.loc[j,\"direction\"] = dr"
   ]
  },
  {
   "cell_type": "markdown",
   "metadata": {},
   "source": [
    "# Structure \"Strip\" is pre-processed here"
   ]
  },
  {
   "cell_type": "code",
   "execution_count": 204,
   "metadata": {
    "id": "ygGqtSdWzCGt"
   },
   "outputs": [],
   "source": [
    "#strip formatting \n",
    "easy_strip = [\"structure\",\"renovation_status\",\"no_of_units\",\"elevator\",\"date_on_market\",\"transact_property\",\"last_transact_date\",\"function\",\"age_limit\",\"property_belong\",\"upload_photo\",\"loc\",\"avail_visit_time\"]\n",
    "structure = df[\"structure\"]\n",
    "for i in easy_strip:\n",
    "    for j in range(len(structure)):\n",
    "      bti = df.iloc[j][i]\n",
    "      bti = bti.strip()\n",
    "      bti = bti.strip(\"'\")\n",
    "      df.loc[j,i] = bti"
   ]
  },
  {
   "cell_type": "code",
   "execution_count": 205,
   "metadata": {
    "colab": {
     "base_uri": "https://localhost:8080/"
    },
    "id": "iDBAlZKq7BKS",
    "outputId": "9df81266-4f04-4f68-ac84-a2ccbaac0ce0"
   },
   "outputs": [],
   "source": [
    "#available time data\n",
    "tim = df[\"avail_visit_time\"]\n",
    "for j in range(len(tim)):\n",
    "  tim = df.iloc[j][\"avail_visit_time\"]\n",
    "  tim = tim.strip(\"]\")\n",
    "  tim = tim.strip(\"'\")\n",
    "  df.loc[j,\"avail_visit_time\"]=tim\n",
    "#upload photo\n",
    "#location data\n",
    "pho = df[\"upload_photo\"]\n",
    "for j in range(len(pho)):\n",
    "  pho = df.iloc[j][\"upload_photo\"]\n",
    "  pho = pho.strip(\"]\")\n",
    "  pho = pho.strip(\"'\")\n",
    "  df.loc[j,\"upload_photo\"]=pho"
   ]
  },
  {
   "cell_type": "code",
   "execution_count": 206,
   "metadata": {
    "id": "56qYa5MNv1C6"
   },
   "outputs": [
    {
     "data": {
      "text/html": [
       "<div>\n",
       "<style scoped>\n",
       "    .dataframe tbody tr th:only-of-type {\n",
       "        vertical-align: middle;\n",
       "    }\n",
       "\n",
       "    .dataframe tbody tr th {\n",
       "        vertical-align: top;\n",
       "    }\n",
       "\n",
       "    .dataframe thead th {\n",
       "        text-align: right;\n",
       "    }\n",
       "</style>\n",
       "<table border=\"1\" class=\"dataframe\">\n",
       "  <thead>\n",
       "    <tr style=\"text-align: right;\">\n",
       "      <th></th>\n",
       "      <th>city</th>\n",
       "      <th>district</th>\n",
       "      <th>price</th>\n",
       "      <th>layout</th>\n",
       "      <th>rel_floor</th>\n",
       "      <th>total_floor</th>\n",
       "      <th>area_size</th>\n",
       "      <th>config</th>\n",
       "      <th>building_type</th>\n",
       "      <th>direction</th>\n",
       "      <th>...</th>\n",
       "      <th>function</th>\n",
       "      <th>age_limit</th>\n",
       "      <th>property_belong</th>\n",
       "      <th>upload_photo</th>\n",
       "      <th>loc</th>\n",
       "      <th>avail_visit_time</th>\n",
       "      <th>bedrm_no</th>\n",
       "      <th>parlour_no</th>\n",
       "      <th>kitchen_no</th>\n",
       "      <th>toilet_no</th>\n",
       "    </tr>\n",
       "  </thead>\n",
       "  <tbody>\n",
       "    <tr>\n",
       "      <th>0</th>\n",
       "      <td>shanghai</td>\n",
       "      <td>pudong</td>\n",
       "      <td>4350000.0</td>\n",
       "      <td>2室2厅1厨1卫</td>\n",
       "      <td>中楼层</td>\n",
       "      <td>6</td>\n",
       "      <td>52.01</td>\n",
       "      <td>平层</td>\n",
       "      <td>板楼</td>\n",
       "      <td>南 西</td>\n",
       "      <td>...</td>\n",
       "      <td>普通住宅</td>\n",
       "      <td>满五年</td>\n",
       "      <td>共有</td>\n",
       "      <td>已上传房本照片</td>\n",
       "      <td>\\xa0内环内']</td>\n",
       "      <td>提前预约随时可看</td>\n",
       "      <td>2</td>\n",
       "      <td>2</td>\n",
       "      <td>1</td>\n",
       "      <td>1</td>\n",
       "    </tr>\n",
       "    <tr>\n",
       "      <th>1</th>\n",
       "      <td>shanghai</td>\n",
       "      <td>pudong</td>\n",
       "      <td>2750000.0</td>\n",
       "      <td>1室1厅1厨1卫</td>\n",
       "      <td>高楼层</td>\n",
       "      <td>6</td>\n",
       "      <td>49.77</td>\n",
       "      <td>平层</td>\n",
       "      <td>板楼</td>\n",
       "      <td>南</td>\n",
       "      <td>...</td>\n",
       "      <td>普通住宅</td>\n",
       "      <td>满五年</td>\n",
       "      <td>共有</td>\n",
       "      <td>已上传房本照片</td>\n",
       "      <td>\\xa0外环外']</td>\n",
       "      <td>有租户需预约</td>\n",
       "      <td>1</td>\n",
       "      <td>1</td>\n",
       "      <td>1</td>\n",
       "      <td>1</td>\n",
       "    </tr>\n",
       "    <tr>\n",
       "      <th>2</th>\n",
       "      <td>shanghai</td>\n",
       "      <td>pudong</td>\n",
       "      <td>3050000.0</td>\n",
       "      <td>2室1厅1厨1卫</td>\n",
       "      <td>高楼层</td>\n",
       "      <td>5</td>\n",
       "      <td>65.75</td>\n",
       "      <td>平层</td>\n",
       "      <td>板楼</td>\n",
       "      <td>南</td>\n",
       "      <td>...</td>\n",
       "      <td>普通住宅</td>\n",
       "      <td>满五年</td>\n",
       "      <td>共有</td>\n",
       "      <td>已上传房本照片</td>\n",
       "      <td>\\xa0外环外']</td>\n",
       "      <td>提前预约随时可看</td>\n",
       "      <td>2</td>\n",
       "      <td>1</td>\n",
       "      <td>1</td>\n",
       "      <td>1</td>\n",
       "    </tr>\n",
       "    <tr>\n",
       "      <th>3</th>\n",
       "      <td>shanghai</td>\n",
       "      <td>pudong</td>\n",
       "      <td>4500000.0</td>\n",
       "      <td>2室2厅1厨1卫</td>\n",
       "      <td>高楼层</td>\n",
       "      <td>6</td>\n",
       "      <td>86.37</td>\n",
       "      <td>平层</td>\n",
       "      <td>板楼</td>\n",
       "      <td>南</td>\n",
       "      <td>...</td>\n",
       "      <td>普通住宅</td>\n",
       "      <td>满五年</td>\n",
       "      <td>共有</td>\n",
       "      <td>已上传房本照片</td>\n",
       "      <td>\\xa0外环外']</td>\n",
       "      <td>提前预约随时可看</td>\n",
       "      <td>2</td>\n",
       "      <td>2</td>\n",
       "      <td>1</td>\n",
       "      <td>1</td>\n",
       "    </tr>\n",
       "    <tr>\n",
       "      <th>4</th>\n",
       "      <td>shanghai</td>\n",
       "      <td>pudong</td>\n",
       "      <td>2230000.0</td>\n",
       "      <td>2室1厅1厨1卫</td>\n",
       "      <td>高楼层</td>\n",
       "      <td>21</td>\n",
       "      <td>71.22</td>\n",
       "      <td>平层</td>\n",
       "      <td>板楼</td>\n",
       "      <td>南</td>\n",
       "      <td>...</td>\n",
       "      <td>普通住宅</td>\n",
       "      <td>满两年</td>\n",
       "      <td>非共有</td>\n",
       "      <td>已上传房本照片</td>\n",
       "      <td>\\xa0']</td>\n",
       "      <td>提前预约随时可看</td>\n",
       "      <td>2</td>\n",
       "      <td>1</td>\n",
       "      <td>1</td>\n",
       "      <td>1</td>\n",
       "    </tr>\n",
       "  </tbody>\n",
       "</table>\n",
       "<p>5 rows × 27 columns</p>\n",
       "</div>"
      ],
      "text/plain": [
       "       city district      price    layout rel_floor total_floor area_size  \\\n",
       "0  shanghai   pudong  4350000.0  2室2厅1厨1卫       中楼层           6     52.01   \n",
       "1  shanghai   pudong  2750000.0  1室1厅1厨1卫       高楼层           6     49.77   \n",
       "2  shanghai   pudong  3050000.0  2室1厅1厨1卫       高楼层           5     65.75   \n",
       "3  shanghai   pudong  4500000.0  2室2厅1厨1卫       高楼层           6     86.37   \n",
       "4  shanghai   pudong  2230000.0  2室1厅1厨1卫       高楼层          21     71.22   \n",
       "\n",
       "  config building_type direction  ... function age_limit property_belong  \\\n",
       "0     平层            板楼       南 西  ...     普通住宅       满五年              共有   \n",
       "1     平层            板楼         南  ...     普通住宅       满五年              共有   \n",
       "2     平层            板楼         南  ...     普通住宅       满五年              共有   \n",
       "3     平层            板楼         南  ...     普通住宅       满五年              共有   \n",
       "4     平层            板楼         南  ...     普通住宅       满两年             非共有   \n",
       "\n",
       "  upload_photo        loc avail_visit_time bedrm_no parlour_no kitchen_no  \\\n",
       "0      已上传房本照片  \\xa0内环内']         提前预约随时可看        2          2          1   \n",
       "1      已上传房本照片  \\xa0外环外']           有租户需预约        1          1          1   \n",
       "2      已上传房本照片  \\xa0外环外']         提前预约随时可看        2          1          1   \n",
       "3      已上传房本照片  \\xa0外环外']         提前预约随时可看        2          2          1   \n",
       "4      已上传房本照片     \\xa0']         提前预约随时可看        2          1          1   \n",
       "\n",
       "  toilet_no  \n",
       "0         1  \n",
       "1         1  \n",
       "2         1  \n",
       "3         1  \n",
       "4         1  \n",
       "\n",
       "[5 rows x 27 columns]"
      ]
     },
     "execution_count": 206,
     "metadata": {},
     "output_type": "execute_result"
    }
   ],
   "source": [
    "df.head()"
   ]
  },
  {
   "cell_type": "code",
   "execution_count": 207,
   "metadata": {
    "colab": {
     "base_uri": "https://localhost:8080/"
    },
    "id": "2Et_bidZE-sS",
    "outputId": "f10c5515-79f5-4e71-e196-f56980fc56f7"
   },
   "outputs": [],
   "source": [
    "#strip formatting building_type\n",
    "building_type = df[\"building_type\"]\n",
    "for j in range(len(building_type)):\n",
    "  bt = df.iloc[j][\"building_type\"]\n",
    "  bt = bt.strip()\n",
    "  bt = bt.strip(\"'\")\n",
    "  df.loc[j,\"building_type\"] = bt"
   ]
  },
  {
   "cell_type": "code",
   "execution_count": 208,
   "metadata": {},
   "outputs": [
    {
     "data": {
      "text/plain": [
       "21294    2022-08-03\n",
       "21295    2019-10-17\n",
       "21296    2020-12-28\n",
       "21297    2021-02-28\n",
       "21298    2022-07-17\n",
       "Name: date_on_market, dtype: object"
      ]
     },
     "execution_count": 208,
     "metadata": {},
     "output_type": "execute_result"
    }
   ],
   "source": [
    "date1 = df[\"date_on_market\"]\n",
    "date1.tail()"
   ]
  },
  {
   "cell_type": "code",
   "execution_count": 209,
   "metadata": {
    "colab": {
     "base_uri": "https://localhost:8080/"
    },
    "id": "w5cCCIY5n_u5",
    "outputId": "f477220d-80e9-4471-f7e3-5412a5e54b2a"
   },
   "outputs": [],
   "source": [
    "import datetime as dt\n",
    "now = dt.date.today()\n",
    "date1 = df[\"date_on_market\"]\n",
    "date2 = df[\"last_transact_date\"]\n",
    "for i in range(len(date1)):\n",
    " datetemp1 = now -dt.date.fromisoformat(str(date1[i]))\n",
    " df.loc[i,\"date_on_market\"]=datetemp1"
   ]
  },
  {
   "cell_type": "code",
   "execution_count": 210,
   "metadata": {},
   "outputs": [],
   "source": [
    "for i in range(len(date2)):\n",
    "  if date2[i].find(\"暂无数据\")!=-1:\n",
    "    continue\n",
    "  else:\n",
    "    datetemp2 = now-dt.date.fromisoformat(date2[i])\n",
    "    df.loc[i,\"last_transact_date\"]=datetemp2"
   ]
  },
  {
   "cell_type": "markdown",
   "metadata": {},
   "source": [
    "# \"loc\" is again stripped here, at the end of the following cell"
   ]
  },
  {
   "cell_type": "code",
   "execution_count": 212,
   "metadata": {
    "colab": {
     "base_uri": "https://localhost:8080/"
    },
    "id": "-NUnAIkYsVUA",
    "outputId": "b3713fa1-29d9-4a93-d820-e7c3a43564b0"
   },
   "outputs": [],
   "source": [
    "column_name = [\"city\",\"district\",\"rel_floor\",\"config\",\"building_type\",\"direction\",\"structure\",\"renovation_status\",\"no_of_units\",\"elevator\",\"date_on_market\",\"transact_property\",\"last_transact_date\",\"function\",\"age_limit\",\"property_belong\",\"upload_photo\",\"loc\",\"avail_visit_time\"]\n",
    "for j in column_name:\n",
    "  for i in range(len(date1)):\n",
    "    if(type(df[j][i])!=str):\n",
    "      continue\n",
    "    elif(df[j][i].find(\"暂无数据\")!=-1):\n",
    "      df.loc[i,j]=np.NaN\n",
    "    elif(df[j][i].find(\"\\n\")!=-1):\n",
    "      df.loc[i,j]=np.NaN\n",
    "for t in range(len(date1)):\n",
    "  str1 = df[\"loc\"][t]\n",
    "  if(type(str1)==str):\n",
    "    str1 = str1.strip('\"')\n",
    "    str1 = str1.strip(\"]\")\n",
    "    str1 = str1.strip(\"'\")\n",
    "    df.loc[t,\"loc\"] = str1"
   ]
  },
  {
   "cell_type": "code",
   "execution_count": 213,
   "metadata": {},
   "outputs": [
    {
     "data": {
      "text/plain": [
       "0          36 days, 0:00:00\n",
       "1          20 days, 0:00:00\n",
       "2         178 days, 0:00:00\n",
       "3         193 days, 0:00:00\n",
       "4          62 days, 0:00:00\n",
       "                ...        \n",
       "21294      59 days, 0:00:00\n",
       "21295    1080 days, 0:00:00\n",
       "21296     642 days, 0:00:00\n",
       "21297     580 days, 0:00:00\n",
       "21298      76 days, 0:00:00\n",
       "Name: date_on_market, Length: 21299, dtype: object"
      ]
     },
     "execution_count": 213,
     "metadata": {},
     "output_type": "execute_result"
    }
   ],
   "source": [
    "df[\"date_on_market\"] # now a datetime.timedelta object, maybe transformed to integer(no.of days later on)"
   ]
  },
  {
   "cell_type": "code",
   "execution_count": 215,
   "metadata": {
    "id": "RuY95TUd6G06"
   },
   "outputs": [],
   "source": [
    "#elevator\n",
    "ele = df[\"elevator\"]\n",
    "for i in range(len(ele)):\n",
    "  if(ele[i]==\"有\"):\n",
    "    df.loc[i,\"elevator\"]=1\n",
    "  elif ele[i]==\"无\":\n",
    "    df.loc[i,\"elevator\"]=0"
   ]
  },
  {
   "cell_type": "markdown",
   "metadata": {
    "id": "PxDpGfIhtuhI"
   },
   "source": [
    "to be processed:\\\n",
    "*no_of_units* column. concatenate the string into two parts, output all possible values in chinese character. substitue them with decimal number representation. compute the proportion. substitute the previous column with new arrays."
   ]
  },
  {
   "cell_type": "code",
   "execution_count": 216,
   "metadata": {
    "id": "7N8-KfZe3OyX"
   },
   "outputs": [],
   "source": [
    "ar1 = df[\"no_of_units\"]\n",
    "stair = []\n",
    "unit = []\n",
    "for i in range(len(ar1)):\n",
    "  str1 = df[\"no_of_units\"][i]\n",
    "  if (str1.find(\"梯\")== -1):\n",
    "    stair.append(np.NaN)\n",
    "    unit.append(np.NaN)\n",
    "  else:\n",
    "    inde = str1.index(\"梯\")\n",
    "    if inde > 1:\n",
    "      stair.append(str1[0:(inde-1)])\n",
    "    else:\n",
    "      stair.append(str1[0])\n",
    "    str1 = str1[:-1]\n",
    "    unit.append(str1[(inde+1):])\n",
    "\n",
    "x = np.array(stair)\n",
    "y = np.array(unit)\n",
    "xu = np.unique(x)\n",
    "yu = np.unique(y)\n",
    "xu1 = xu.tolist()\n",
    "yu1 = yu.tolist()"
   ]
  },
  {
   "cell_type": "code",
   "execution_count": 217,
   "metadata": {
    "colab": {
     "base_uri": "https://localhost:8080/"
    },
    "id": "95Xtb3rBBG6L",
    "outputId": "1ceea2e9-572d-4028-a917-1e6c1e018769"
   },
   "outputs": [
    {
     "name": "stdout",
     "output_type": "stream",
     "text": [
      "['nan' '一' '七' '三' '两' '九' '二' '五' '八' '六' '十' '四']\n",
      "['nan' '一' '一百' '七' '七十七' '七十四' '三' '三十' '三十一' '三十七' '三十三' '三十二' '三十五'\n",
      " '三十六' '三十四' '两' '九' '二十' '二十一' '二十七' '二十三' '二十九' '二十二' '二十五' '二十八' '二十六'\n",
      " '二十四' '五' '五十' '五十一' '五十七' '五十三' '五十九' '五十二' '五十五' '五十八' '五十六' '八' '八十'\n",
      " '八十四' '六' '六十五' '六十六' '十' '十一' '十七' '十三' '十九' '十二' '十五' '十八' '十六' '十四'\n",
      " '四' '四十' '四十一' '四十七' '四十三' '四十二' '四十五' '四十六']\n"
     ]
    }
   ],
   "source": [
    "print(xu)\n",
    "print(yu)\n",
    "xup = [np.NaN,1,7,3,2,9,2,5,8,6,10,4]\n",
    "yup = [np.NaN,1,100,7,77,74,3,30,31,37,33,32,35,36,34,2,9,20,21,27,23,29,22,25,28,26,24,5,50,51,57,53,59,52,55,58,56,8,80,84,6,65,66,10,11,17,13,19,12,15,18,16,14,4,40,41,47,43,42,45,46]\n"
   ]
  },
  {
   "cell_type": "code",
   "execution_count": 218,
   "metadata": {
    "id": "0EloR7sp8zge"
   },
   "outputs": [],
   "source": [
    "xu1 = xu.tolist()\n",
    "yu1 = yu.tolist()\n",
    "for i in range(len(stair)):\n",
    "  if(stair[i] in [np.nan]):\n",
    "    continue\n",
    "  else:\n",
    "    stair[i]=xup[xu1.index(stair[i])]\n",
    "for j in range(len(unit)):\n",
    "  if(unit[j] in [np.nan]):\n",
    "    continue\n",
    "  else:\n",
    "    unit[j]=yup[yu1.index(unit[j])]\n"
   ]
  },
  {
   "cell_type": "code",
   "execution_count": 219,
   "metadata": {
    "colab": {
     "base_uri": "https://localhost:8080/"
    },
    "id": "XFGQMno6IL2S",
    "outputId": "cb034de0-14b2-4b58-ce53-abe916c738e8"
   },
   "outputs": [
    {
     "name": "stdout",
     "output_type": "stream",
     "text": [
      "21299\n"
     ]
    },
    {
     "name": "stderr",
     "output_type": "stream",
     "text": [
      "C:\\Users\\Lenovo\\AppData\\Local\\Temp/ipykernel_23440/3649857014.py:1: PerformanceWarning: DataFrame is highly fragmented.  This is usually the result of calling `frame.insert` many times, which has poor performance.  Consider joining all columns at once using pd.concat(axis=1) instead.  To get a de-fragmented frame, use `newframe = frame.copy()`\n",
      "  df[\"stair\"]=stair\n",
      "C:\\Users\\Lenovo\\AppData\\Local\\Temp/ipykernel_23440/3649857014.py:2: PerformanceWarning: DataFrame is highly fragmented.  This is usually the result of calling `frame.insert` many times, which has poor performance.  Consider joining all columns at once using pd.concat(axis=1) instead.  To get a de-fragmented frame, use `newframe = frame.copy()`\n",
      "  df[\"unit\"]=unit\n",
      "C:\\Users\\Lenovo\\AppData\\Local\\Temp/ipykernel_23440/3649857014.py:7: PerformanceWarning: DataFrame is highly fragmented.  This is usually the result of calling `frame.insert` many times, which has poor performance.  Consider joining all columns at once using pd.concat(axis=1) instead.  To get a de-fragmented frame, use `newframe = frame.copy()`\n",
      "  df[\"proportion\"]=proportion\n"
     ]
    }
   ],
   "source": [
    "df[\"stair\"]=stair\n",
    "df[\"unit\"]=unit\n",
    "st = np.array(stair)\n",
    "un = np.array(unit)\n",
    "proportion = np.divide(st,un)\n",
    "print(len(proportion))\n",
    "df[\"proportion\"]=proportion"
   ]
  },
  {
   "cell_type": "code",
   "execution_count": 220,
   "metadata": {
    "colab": {
     "base_uri": "https://localhost:8080/"
    },
    "id": "5a9m9ETvUMKW",
    "outputId": "eca2675a-a6ee-4168-b15d-685673a0c39c"
   },
   "outputs": [
    {
     "name": "stdout",
     "output_type": "stream",
     "text": [
      "['中楼层' '低楼层' '高楼层']\n"
     ]
    }
   ],
   "source": [
    "rf = df[\"rel_floor\"]\n",
    "rfp = np.array(rf)\n",
    "print(np.unique(rfp))"
   ]
  },
  {
   "cell_type": "code",
   "execution_count": 221,
   "metadata": {
    "id": "K5zaiebpUSKo"
   },
   "outputs": [
    {
     "name": "stderr",
     "output_type": "stream",
     "text": [
      "C:\\Users\\Lenovo\\AppData\\Local\\Temp/ipykernel_23440/2030144815.py:17: PerformanceWarning: DataFrame is highly fragmented.  This is usually the result of calling `frame.insert` many times, which has poor performance.  Consider joining all columns at once using pd.concat(axis=1) instead.  To get a de-fragmented frame, use `newframe = frame.copy()`\n",
      "  df[\"middle_floor\"]=middle_floor\n",
      "C:\\Users\\Lenovo\\AppData\\Local\\Temp/ipykernel_23440/2030144815.py:18: PerformanceWarning: DataFrame is highly fragmented.  This is usually the result of calling `frame.insert` many times, which has poor performance.  Consider joining all columns at once using pd.concat(axis=1) instead.  To get a de-fragmented frame, use `newframe = frame.copy()`\n",
      "  df[\"lower_floor\"]=lower_floor\n",
      "C:\\Users\\Lenovo\\AppData\\Local\\Temp/ipykernel_23440/2030144815.py:19: PerformanceWarning: DataFrame is highly fragmented.  This is usually the result of calling `frame.insert` many times, which has poor performance.  Consider joining all columns at once using pd.concat(axis=1) instead.  To get a de-fragmented frame, use `newframe = frame.copy()`\n",
      "  df[\"high_floor\"]=high_floor\n"
     ]
    }
   ],
   "source": [
    "middle_floor = []\n",
    "lower_floor = []\n",
    "high_floor = []\n",
    "for i in range(len(rf)):\n",
    "  if(rf[i]==\"中楼层\"):\n",
    "    middle_floor.append(1)\n",
    "    lower_floor.append(0)\n",
    "    high_floor.append(0)\n",
    "  elif rf[i]==\"低楼层\":\n",
    "    middle_floor.append(0)\n",
    "    lower_floor.append(1)\n",
    "    high_floor.append(0)\n",
    "  else:\n",
    "    middle_floor.append(0)\n",
    "    lower_floor.append(0)\n",
    "    high_floor.append(1)\n",
    "df[\"middle_floor\"]=middle_floor\n",
    "df[\"lower_floor\"]=lower_floor\n",
    "df[\"high_floor\"]=high_floor\n"
   ]
  },
  {
   "cell_type": "code",
   "execution_count": 222,
   "metadata": {
    "colab": {
     "base_uri": "https://localhost:8080/"
    },
    "id": "x_J-L0eMVkkC",
    "outputId": "027a0b09-ecf5-41bd-b6cb-5c59aa104e2f"
   },
   "outputs": [
    {
     "name": "stdout",
     "output_type": "stream",
     "text": [
      "['108.88㎡' '182.54㎡' '303.19㎡' '356.3㎡' '403.3㎡' '538.45㎡' '555.51㎡' 'nan'\n",
      " '复式' '平层' '跃层' '错层']\n"
     ]
    }
   ],
   "source": [
    "config = df[\"config\"]\n",
    "con = np.array(config)\n",
    "for i in range(len(con)):\n",
    "  con[i]=str(con[i])\n",
    "print(np.unique(con))"
   ]
  },
  {
   "cell_type": "code",
   "execution_count": 223,
   "metadata": {
    "id": "gcX0rwkAafGM"
   },
   "outputs": [],
   "source": [
    "for i in range(len(con)):\n",
    "  if(con[i].find(\"㎡\")!=-1):\n",
    "    df.loc[i,\"config\"]==np.nan"
   ]
  },
  {
   "cell_type": "code",
   "execution_count": 224,
   "metadata": {
    "id": "ljCIsLO2bDsq"
   },
   "outputs": [
    {
     "name": "stderr",
     "output_type": "stream",
     "text": [
      "C:\\Users\\Lenovo\\AppData\\Local\\Temp/ipykernel_23440/1182751425.py:31: PerformanceWarning: DataFrame is highly fragmented.  This is usually the result of calling `frame.insert` many times, which has poor performance.  Consider joining all columns at once using pd.concat(axis=1) instead.  To get a de-fragmented frame, use `newframe = frame.copy()`\n",
      "  df[\"fushi\"]=duplex_config\n",
      "C:\\Users\\Lenovo\\AppData\\Local\\Temp/ipykernel_23440/1182751425.py:32: PerformanceWarning: DataFrame is highly fragmented.  This is usually the result of calling `frame.insert` many times, which has poor performance.  Consider joining all columns at once using pd.concat(axis=1) instead.  To get a de-fragmented frame, use `newframe = frame.copy()`\n",
      "  df[\"pingceng\"]=levelling_config\n",
      "C:\\Users\\Lenovo\\AppData\\Local\\Temp/ipykernel_23440/1182751425.py:33: PerformanceWarning: DataFrame is highly fragmented.  This is usually the result of calling `frame.insert` many times, which has poor performance.  Consider joining all columns at once using pd.concat(axis=1) instead.  To get a de-fragmented frame, use `newframe = frame.copy()`\n",
      "  df[\"cuoceng\"]=splitlevel_config\n",
      "C:\\Users\\Lenovo\\AppData\\Local\\Temp/ipykernel_23440/1182751425.py:34: PerformanceWarning: DataFrame is highly fragmented.  This is usually the result of calling `frame.insert` many times, which has poor performance.  Consider joining all columns at once using pd.concat(axis=1) instead.  To get a de-fragmented frame, use `newframe = frame.copy()`\n",
      "  df[\"yueceng\"]=duplex_yconfig\n"
     ]
    }
   ],
   "source": [
    "duplex_config = []\n",
    "levelling_config = []\n",
    "duplex_yconfig = []\n",
    "splitlevel_config = []\n",
    "for i in range(len(con)):\n",
    "  if con[i]==\"复式\":\n",
    "    duplex_config.append(1)\n",
    "    levelling_config.append(0)\n",
    "    duplex_yconfig.append(0)\n",
    "    splitlevel_config.append(0)\n",
    "  elif con[i]==\"平层\":\n",
    "    duplex_config.append(0)\n",
    "    levelling_config.append(1)\n",
    "    duplex_yconfig.append(0)\n",
    "    splitlevel_config.append(0)\n",
    "  elif con[i]==\"错层\":\n",
    "    duplex_config.append(0)\n",
    "    levelling_config.append(0)\n",
    "    duplex_yconfig.append(0)\n",
    "    splitlevel_config.append(1)\n",
    "  elif con[i]==\"跃层\":\n",
    "    duplex_config.append(0)\n",
    "    levelling_config.append(0)\n",
    "    duplex_yconfig.append(1)\n",
    "    splitlevel_config.append(0)\n",
    "  else:\n",
    "    duplex_config.append(0)\n",
    "    levelling_config.append(0)\n",
    "    duplex_yconfig.append(0)\n",
    "    splitlevel_config.append(0)\n",
    "df[\"fushi\"]=duplex_config\n",
    "df[\"pingceng\"]=levelling_config\n",
    "df[\"cuoceng\"]=splitlevel_config\n",
    "df[\"yueceng\"]=duplex_yconfig"
   ]
  },
  {
   "cell_type": "code",
   "execution_count": 225,
   "metadata": {},
   "outputs": [
    {
     "data": {
      "text/plain": [
       "0          板楼\n",
       "1          板楼\n",
       "2          板楼\n",
       "3          板楼\n",
       "4          板楼\n",
       "         ... \n",
       "21294      塔楼\n",
       "21295    板塔结合\n",
       "21296    板塔结合\n",
       "21297      塔楼\n",
       "21298     NaN\n",
       "Name: building_type, Length: 21299, dtype: object"
      ]
     },
     "execution_count": 225,
     "metadata": {},
     "output_type": "execute_result"
    }
   ],
   "source": [
    "df[\"building_type\"]"
   ]
  },
  {
   "cell_type": "code",
   "execution_count": 226,
   "metadata": {
    "colab": {
     "base_uri": "https://localhost:8080/"
    },
    "id": "FuBKFeaGdbej",
    "outputId": "0a607c1b-7785-490c-f07d-e1295797f2e2"
   },
   "outputs": [
    {
     "name": "stdout",
     "output_type": "stream",
     "text": [
      "['nan' '塔楼' '平房' '未知结构' '板塔结合' '板楼' '框架结构' '砖混结构' '钢混结构']\n"
     ]
    }
   ],
   "source": [
    "bt = df[\"building_type\"]\n",
    "btt = np.array(bt)\n",
    "for i in range(len(btt)):\n",
    "  btt[i]=str(btt[i])\n",
    "print(np.unique(btt))"
   ]
  },
  {
   "cell_type": "code",
   "execution_count": 227,
   "metadata": {
    "id": "7ZKT36lZd-d7"
   },
   "outputs": [
    {
     "data": {
      "text/plain": [
       "[804,\n",
       " 807,\n",
       " 1166,\n",
       " 1169,\n",
       " 1183,\n",
       " 1243,\n",
       " 4174,\n",
       " 5398,\n",
       " 5479,\n",
       " 5604,\n",
       " 5651,\n",
       " 5666,\n",
       " 5730,\n",
       " 6602,\n",
       " 10736,\n",
       " 11783,\n",
       " 12230,\n",
       " 14051,\n",
       " 14060,\n",
       " 14158,\n",
       " 14193,\n",
       " 14236,\n",
       " 14241,\n",
       " 14278,\n",
       " 14286,\n",
       " 14365,\n",
       " 14367,\n",
       " 14371,\n",
       " 14372,\n",
       " 14376,\n",
       " 14378,\n",
       " 14382,\n",
       " 14383,\n",
       " 14384,\n",
       " 14385,\n",
       " 14387,\n",
       " 14388,\n",
       " 14391,\n",
       " 14394,\n",
       " 14395,\n",
       " 14594,\n",
       " 14604,\n",
       " 14799,\n",
       " 14987,\n",
       " 14988,\n",
       " 15107,\n",
       " 15154,\n",
       " 15295,\n",
       " 15372,\n",
       " 15872,\n",
       " 17057,\n",
       " 17105,\n",
       " 17109,\n",
       " 17115,\n",
       " 17116,\n",
       " 17135,\n",
       " 17150,\n",
       " 17327,\n",
       " 17354,\n",
       " 17500,\n",
       " 18529,\n",
       " 18717,\n",
       " 18846,\n",
       " 19019,\n",
       " 19111,\n",
       " 19697,\n",
       " 20693,\n",
       " 20752,\n",
       " 20777,\n",
       " 20781,\n",
       " 20784,\n",
       " 20785,\n",
       " 20786,\n",
       " 20787,\n",
       " 20791,\n",
       " 20794,\n",
       " 20796,\n",
       " 20878,\n",
       " 20890,\n",
       " 20923,\n",
       " 21008,\n",
       " 21009,\n",
       " 21244]"
      ]
     },
     "execution_count": 227,
     "metadata": {},
     "output_type": "execute_result"
    }
   ],
   "source": [
    "anomaly_list = []\n",
    "for i in range(len(btt)):\n",
    "  if(btt[i]==\"钢混结构\" or btt[i]==\"未知结构\" or btt[i]==\"框架结构\" or btt[i]==\"砖混结构\"):\n",
    "    anomaly_list.append(i)\n",
    "anomaly_list"
   ]
  },
  {
   "cell_type": "code",
   "execution_count": 228,
   "metadata": {
    "colab": {
     "base_uri": "https://localhost:8080/"
    },
    "id": "AG3CXXSAg202",
    "outputId": "7b7b899e-e132-40f8-cce6-97eb30a784a4"
   },
   "outputs": [
    {
     "ename": "AttributeError",
     "evalue": "'DataFrame' object has no attribute 'col'",
     "output_type": "error",
     "traceback": [
      "\u001b[1;31m---------------------------------------------------------------------------\u001b[0m",
      "\u001b[1;31mAttributeError\u001b[0m                            Traceback (most recent call last)",
      "\u001b[1;32m~\\AppData\\Local\\Temp/ipykernel_23440/4168092378.py\u001b[0m in \u001b[0;36m<module>\u001b[1;34m\u001b[0m\n\u001b[0;32m      3\u001b[0m   \u001b[0mbt\u001b[0m \u001b[1;33m=\u001b[0m \u001b[0mdf\u001b[0m\u001b[1;33m.\u001b[0m\u001b[0miloc\u001b[0m\u001b[1;33m[\u001b[0m\u001b[0mi\u001b[0m\u001b[1;33m]\u001b[0m\u001b[1;33m[\u001b[0m\u001b[1;34m\"structure\"\u001b[0m\u001b[1;33m]\u001b[0m\u001b[1;33m\u001b[0m\u001b[1;33m\u001b[0m\u001b[0m\n\u001b[0;32m      4\u001b[0m   \u001b[0mrenova\u001b[0m \u001b[1;33m=\u001b[0m \u001b[0mdf\u001b[0m\u001b[1;33m.\u001b[0m\u001b[0miloc\u001b[0m\u001b[1;33m[\u001b[0m\u001b[0mi\u001b[0m\u001b[1;33m]\u001b[0m\u001b[1;33m[\u001b[0m\u001b[1;34m\"direction\"\u001b[0m\u001b[1;33m]\u001b[0m\u001b[1;33m\u001b[0m\u001b[1;33m\u001b[0m\u001b[0m\n\u001b[1;32m----> 5\u001b[1;33m   \u001b[0mdf\u001b[0m\u001b[1;33m.\u001b[0m\u001b[0mcol\u001b[0m\u001b[1;33m[\u001b[0m\u001b[0mi\u001b[0m\u001b[1;33m,\u001b[0m\u001b[1;34m\"building_type\"\u001b[0m\u001b[1;33m]\u001b[0m\u001b[1;33m=\u001b[0m\u001b[0mbt\u001b[0m\u001b[1;33m\u001b[0m\u001b[1;33m\u001b[0m\u001b[0m\n\u001b[0m\u001b[0;32m      6\u001b[0m   \u001b[0mdf\u001b[0m\u001b[1;33m.\u001b[0m\u001b[0mcol\u001b[0m\u001b[1;33m[\u001b[0m\u001b[0mi\u001b[0m\u001b[1;33m,\u001b[0m\u001b[1;34m\"structure\"\u001b[0m\u001b[1;33m]\u001b[0m\u001b[1;33m=\u001b[0m\u001b[0mstruct\u001b[0m\u001b[1;33m\u001b[0m\u001b[1;33m\u001b[0m\u001b[0m\n\u001b[0;32m      7\u001b[0m   \u001b[0mdf\u001b[0m\u001b[1;33m.\u001b[0m\u001b[0mcol\u001b[0m\u001b[1;33m[\u001b[0m\u001b[0mi\u001b[0m\u001b[1;33m,\u001b[0m\u001b[1;34m\"renovation_status\"\u001b[0m\u001b[1;33m]\u001b[0m\u001b[1;33m=\u001b[0m\u001b[0mrenova\u001b[0m\u001b[1;33m\u001b[0m\u001b[1;33m\u001b[0m\u001b[0m\n",
      "\u001b[1;32mD:\\anoconda\\lib\\site-packages\\pandas\\core\\generic.py\u001b[0m in \u001b[0;36m__getattr__\u001b[1;34m(self, name)\u001b[0m\n\u001b[0;32m   5485\u001b[0m         ):\n\u001b[0;32m   5486\u001b[0m             \u001b[1;32mreturn\u001b[0m \u001b[0mself\u001b[0m\u001b[1;33m[\u001b[0m\u001b[0mname\u001b[0m\u001b[1;33m]\u001b[0m\u001b[1;33m\u001b[0m\u001b[1;33m\u001b[0m\u001b[0m\n\u001b[1;32m-> 5487\u001b[1;33m         \u001b[1;32mreturn\u001b[0m \u001b[0mobject\u001b[0m\u001b[1;33m.\u001b[0m\u001b[0m__getattribute__\u001b[0m\u001b[1;33m(\u001b[0m\u001b[0mself\u001b[0m\u001b[1;33m,\u001b[0m \u001b[0mname\u001b[0m\u001b[1;33m)\u001b[0m\u001b[1;33m\u001b[0m\u001b[1;33m\u001b[0m\u001b[0m\n\u001b[0m\u001b[0;32m   5488\u001b[0m \u001b[1;33m\u001b[0m\u001b[0m\n\u001b[0;32m   5489\u001b[0m     \u001b[1;32mdef\u001b[0m \u001b[0m__setattr__\u001b[0m\u001b[1;33m(\u001b[0m\u001b[0mself\u001b[0m\u001b[1;33m,\u001b[0m \u001b[0mname\u001b[0m\u001b[1;33m:\u001b[0m \u001b[0mstr\u001b[0m\u001b[1;33m,\u001b[0m \u001b[0mvalue\u001b[0m\u001b[1;33m)\u001b[0m \u001b[1;33m->\u001b[0m \u001b[1;32mNone\u001b[0m\u001b[1;33m:\u001b[0m\u001b[1;33m\u001b[0m\u001b[1;33m\u001b[0m\u001b[0m\n",
      "\u001b[1;31mAttributeError\u001b[0m: 'DataFrame' object has no attribute 'col'"
     ]
    }
   ],
   "source": [
    "for i in anomaly_list:\n",
    "  struct = df.iloc[i][\"building_type\"]\n",
    "  bt = df.iloc[i][\"structure\"]\n",
    "  renova = df.iloc[i][\"direction\"]\n",
    "  df.col[i,\"building_type\"]=bt\n",
    "  df.col[i,\"structure\"]=struct\n",
    "  df.col[i,\"renovation_status\"]=renova\n",
    "  df.col[i,\"direction\"]=df_correct.iloc[i+3,11]"
   ]
  },
  {
   "cell_type": "code",
   "execution_count": null,
   "metadata": {
    "colab": {
     "base_uri": "https://localhost:8080/"
    },
    "id": "OFk3-LNUlo9z",
    "outputId": "fb5a0113-3759-4e3d-b91c-582e303eada4"
   },
   "outputs": [],
   "source": [
    "#building type\n",
    "bt = df[\"building_type\"]\n",
    "btt = np.array(bt)\n",
    "for i in range(len(btt)):\n",
    "  btt[i]=str(btt[i])\n",
    "print(np.unique(btt))"
   ]
  },
  {
   "cell_type": "code",
   "execution_count": null,
   "metadata": {
    "id": "jCWu68mWoWUC"
   },
   "outputs": [],
   "source": [
    "#building type dummy \n",
    "shuangpin = []\n",
    "talou = []\n",
    "pingfang = []\n",
    "taban_combine = []\n",
    "banlou = []\n",
    "dudong = []\n",
    "lianpai = []\n",
    "for i in range(len(bt)):\n",
    "  if bt[i]==\"双拼\":\n",
    "    shuangpin.append(1)\n",
    "    talou.append(0)\n",
    "    pingfang.append(0)\n",
    "    taban_combine.append(0)\n",
    "    banlou.append(0)\n",
    "    dudong.append(0)\n",
    "    lianpai.append(0)\n",
    "  elif bt[i]==\"叠拼\":\n",
    "    shuangpin.append(0)\n",
    "    talou.append(0)\n",
    "    pingfang.append(0)\n",
    "    taban_combine.append(0)\n",
    "    banlou.append(0)\n",
    "    dudong.append(0)\n",
    "    lianpai.append(0)\n",
    "  elif bt[i]==\"塔楼\":\n",
    "    shuangpin.append(0)\n",
    "    talou.append(1)\n",
    "    pingfang.append(0)\n",
    "    taban_combine.append(0)\n",
    "    banlou.append(0)\n",
    "    dudong.append(0)\n",
    "    lianpai.append(0)\n",
    "  elif bt[i]==\"平房\":\n",
    "    shuangpin.append(0)\n",
    "    talou.append(0)\n",
    "    pingfang.append(1)\n",
    "    taban_combine.append(0)\n",
    "    banlou.append(0)\n",
    "    dudong.append(0)\n",
    "    lianpai.append(0)\n",
    "  elif bt[i]==\"板塔结合\":\n",
    "    shuangpin.append(0)\n",
    "    talou.append(0)\n",
    "    pingfang.append(0)\n",
    "    taban_combine.append(1)\n",
    "    banlou.append(0)\n",
    "    dudong.append(0)\n",
    "    lianpai.append(0)\n",
    "  elif bt[i]==\"板楼\":\n",
    "    shuangpin.append(0)\n",
    "    talou.append(0)\n",
    "    pingfang.append(0)\n",
    "    taban_combine.append(0)\n",
    "    banlou.append(1)\n",
    "    dudong.append(0)\n",
    "    lianpai.append(0)\n",
    "  elif bt[i]==\"独栋\":\n",
    "    shuangpin.append(0)\n",
    "    talou.append(0)\n",
    "    pingfang.append(0)\n",
    "    taban_combine.append(0)\n",
    "    banlou.append(0)\n",
    "    dudong.append(1)\n",
    "    lianpai.append(0)\n",
    "  elif bt[i]==\"联排\":\n",
    "    shuangpin.append(0)\n",
    "    talou.append(0)\n",
    "    pingfang.append(0)\n",
    "    taban_combine.append(0)\n",
    "    banlou.append(0)\n",
    "    dudong.append(0)\n",
    "    lianpai.append(1)\n",
    "  else:\n",
    "    shuangpin.append(np.nan)\n",
    "    talou.append(np.nan)\n",
    "    pingfang.append(np.nan)\n",
    "    taban_combine.append(np.nan)\n",
    "    banlou.append(np.nan)\n",
    "    dudong.append(np.nan)\n",
    "    lianpai.append(np.nan)"
   ]
  },
  {
   "cell_type": "code",
   "execution_count": null,
   "metadata": {
    "id": "kl3KbVPLsJBJ"
   },
   "outputs": [],
   "source": [
    "df[\"shuangpin\"]=shuangpin\n",
    "df[\"talou\"]=talou\n",
    "df[\"pingfang\"]=pingfang\n",
    "df[\"taban_combine\"]=taban_combine\n",
    "df[\"banlou\"]=banlou\n",
    "df[\"dudong\"]=dudong\n",
    "df[\"lianpai\"]=lianpai"
   ]
  },
  {
   "cell_type": "code",
   "execution_count": null,
   "metadata": {
    "id": "CogtCrRZtkLi"
   },
   "outputs": [],
   "source": [
    "direct = df[\"direction\"]\n",
    "directt = np.array(direct)\n",
    "for i in range(len(directt)):\n",
    "  directt[i]=str(directt[i])\n",
    "  t=directt[i]\n",
    "  t = t.strip()\n",
    "  t = t.strip('\"')\n",
    "  t = t.strip(\"'\")\n",
    "  directt[i]=t\n",
    "print(np.unique(directt))\n"
   ]
  },
  {
   "cell_type": "code",
   "execution_count": null,
   "metadata": {
    "id": "bKut1HAIyQxE"
   },
   "outputs": [],
   "source": [
    "east = []\n",
    "southeast = []\n",
    "south = []\n",
    "southwest = []\n",
    "west = []\n",
    "northwest = []\n",
    "north = []\n",
    "northeast = []\n",
    "for i in range(len(directt)):\n",
    "  str1 = directt[i]\n",
    "  arr1 = str1.split()\n",
    "  for j in range(len(arr1)):\n",
    "    if arr1[j]==\"东\":\n",
    "      east.append(1)\n",
    "    elif arr1[j]==\"西\":\n",
    "      west.append(1)\n",
    "    elif arr1[j]==\"南\":\n",
    "      south.append(1)\n",
    "    elif arr1[j]==\"北\":\n",
    "      north.append(1)\n",
    "    elif arr1[j]==\"东南\":\n",
    "      southeast.append(1)\n",
    "    elif arr1[j]==\"西南\":\n",
    "      southwest.append(1)\n",
    "    elif arr1[j]==\"西北\":\n",
    "      northwest.append(1)\n",
    "    elif arr1[j]==\"东北\":\n",
    "      northeast.append(1)\n",
    "  if len(east)==i:\n",
    "    east.append(0)\n",
    "  if len(west)==i:\n",
    "    west.append(0)\n",
    "  if len(north)==i:\n",
    "    north.append(0)\n",
    "  if len(south)==i:\n",
    "    south.append(0)\n",
    "  if len(northeast)==i:\n",
    "    northeast.append(0)\n",
    "  if len(southeast)==i:\n",
    "    southeast.append(0)\n",
    "  if len(southwest)==i:\n",
    "    southwest.append(0)\n",
    "  if len(northwest)==i:\n",
    "    northwest.append(0)\n",
    "df[\"south\"]=south\n",
    "df[\"west\"]=west\n",
    "df[\"north\"]=north\n",
    "df[\"east\"]=east\n",
    "df[\"northeast\"]=northeast\n",
    "df[\"southeast\"]=southeast\n",
    "df[\"northwest\"]=northwest\n",
    "df[\"southwest\"]=southwest  "
   ]
  },
  {
   "cell_type": "code",
   "execution_count": null,
   "metadata": {
    "colab": {
     "base_uri": "https://localhost:8080/"
    },
    "id": "9fDipoYF2Rwx",
    "outputId": "b49e07bd-2f8c-4c8d-9f59-dc2dafe383dd"
   },
   "outputs": [],
   "source": [
    "struct = df[\"structure\"]\n",
    "struc = np.array(struct)\n",
    "for i in range(len(struct)):\n",
    "  struc[i] = str(struc[i])\n",
    "print(np.unique(struc))"
   ]
  },
  {
   "cell_type": "code",
   "execution_count": null,
   "metadata": {
    "id": "w0MuuINg3Jqw"
   },
   "outputs": [],
   "source": [
    "unknown_struct = []\n",
    "frame_struct = []\n",
    "mixed_struct = []\n",
    "brickwood_struct = []\n",
    "brickmix_struct = []\n",
    "steelmix_struct = []\n",
    "steel_struct = []\n",
    "for i in range(len(struc)):\n",
    "  strr = struc[i]\n",
    "  if strr == \"未知结构\":\n",
    "    unknown_struct.append(1)\n",
    "    frame_struct.append(0)\n",
    "    mixed_struct.append(0)\n",
    "    brickwood_struct.append(0)\n",
    "    brickmix_struct.append(0)\n",
    "    steelmix_struct.append(0)\n",
    "    steel_struct.append(0)\n",
    "  elif strr ==\"框架结构\":\n",
    "    unknown_struct.append(0)\n",
    "    frame_struct.append(1)\n",
    "    mixed_struct.append(0)\n",
    "    brickwood_struct.append(0)\n",
    "    brickmix_struct.append(0)\n",
    "    steelmix_struct.append(0)\n",
    "    steel_struct.append(0)\n",
    "  elif strr ==\"混合结构\":\n",
    "    unknown_struct.append(0)\n",
    "    frame_struct.append(0)\n",
    "    mixed_struct.append(1)\n",
    "    brickwood_struct.append(0)\n",
    "    brickmix_struct.append(0)\n",
    "    steelmix_struct.append(0)\n",
    "    steel_struct.append(0)\n",
    "  elif strr ==\"砖木结构\":\n",
    "    unknown_struct.append(0)\n",
    "    frame_struct.append(0)\n",
    "    mixed_struct.append(0)\n",
    "    brickwood_struct.append(1)\n",
    "    brickmix_struct.append(0)\n",
    "    steelmix_struct.append(0)\n",
    "    steel_struct.append(0)\n",
    "  elif strr == \"砖混结构\":\n",
    "    unknown_struct.append(0)\n",
    "    frame_struct.append(0)\n",
    "    mixed_struct.append(0)\n",
    "    brickwood_struct.append(0)\n",
    "    brickmix_struct.append(1)\n",
    "    steelmix_struct.append(0)\n",
    "    steel_struct.append(0)\n",
    "  elif strr ==\"钢混结构\":\n",
    "    unknown_struct.append(0)\n",
    "    frame_struct.append(0)\n",
    "    mixed_struct.append(0)\n",
    "    brickwood_struct.append(0)\n",
    "    brickmix_struct.append(0)\n",
    "    steelmix_struct.append(1)\n",
    "    steel_struct.append(0)\n",
    "  elif strr == \"钢结构\":\n",
    "    unknown_struct.append(0)\n",
    "    frame_struct.append(0)\n",
    "    mixed_struct.append(0)\n",
    "    brickwood_struct.append(0)\n",
    "    brickmix_struct.append(0)\n",
    "    steelmix_struct.append(0)\n",
    "    steel_struct.append(1)\n",
    "  else:\n",
    "    unknown_struct.append(0)\n",
    "    frame_struct.append(0)\n",
    "    mixed_struct.append(0)\n",
    "    brickwood_struct.append(0)\n",
    "    brickmix_struct.append(0)\n",
    "    steelmix_struct.append(0)\n",
    "    steel_struct.append(0)\n",
    "df[\"unknown_struct\"]=unknown_struct\n",
    "df[\"frame_struct\"]=frame_struct\n",
    "df[\"mixed_struct\"]=mixed_struct\n",
    "df[\"brickwood_struct\"]=brickwood_struct\n",
    "df[\"brickmix_struct\"]=brickmix_struct\n",
    "df[\"steelmix_struct\"]=steelmix_struct\n",
    "df[\"steel_struct\"]=steel_struct "
   ]
  },
  {
   "cell_type": "code",
   "execution_count": null,
   "metadata": {
    "colab": {
     "base_uri": "https://localhost:8080/"
    },
    "id": "Z7ZeXK-q5oXb",
    "outputId": "2538d520-6008-446c-abc0-18226b2deb42"
   },
   "outputs": [],
   "source": [
    "renov = df[\"renovation_status\"]\n",
    "reno = np.array(renov)\n",
    "for i in range(len(reno)):\n",
    "  reno[i]=str(reno[i])\n",
    "print(np.unique(reno))"
   ]
  },
  {
   "cell_type": "code",
   "execution_count": null,
   "metadata": {
    "id": "gYhiSFDz6NvO"
   },
   "outputs": [],
   "source": [
    "other_reno = []\n",
    "semi_reno = []\n",
    "sim_reno = []\n",
    "pro_reno = []\n",
    "for i in range(len(reno)):\n",
    "  ren = reno[i]\n",
    "  if ren ==\"其他\":\n",
    "    other_reno.append(1)\n",
    "    semi_reno.append(0)\n",
    "    sim_reno.append(0)\n",
    "    pro_reno.append(0)\n",
    "  elif ren ==\"毛坯\":\n",
    "    other_reno.append(0)\n",
    "    semi_reno.append(1)\n",
    "    sim_reno.append(0)\n",
    "    pro_reno.append(0)\n",
    "  elif ren == \"简装\":\n",
    "    other_reno.append(0)\n",
    "    semi_reno.append(0)\n",
    "    sim_reno.append(1)\n",
    "    pro_reno.append(0)\n",
    "  elif ren == \"精装\":\n",
    "    other_reno.append(0)\n",
    "    semi_reno.append(0)\n",
    "    sim_reno.append(0)\n",
    "    pro_reno.append(1)\n",
    "  else:\n",
    "    other_reno.append(0)\n",
    "    semi_reno.append(0)\n",
    "    sim_reno.append(0)\n",
    "    pro_reno.append(0)\n",
    "df[\"other_reno\"]=other_reno\n",
    "df[\"semi_reno\"]=semi_reno\n",
    "df[\"sim_reno\"]=sim_reno\n",
    "df[\"pro_reno\"]=pro_reno"
   ]
  },
  {
   "cell_type": "code",
   "execution_count": null,
   "metadata": {
    "id": "falxcLSnZB2R"
   },
   "outputs": [],
   "source": [
    "# drop a dummy var for each categorical var, leave out direction\n",
    "df = df.drop(\"lower_floor\",axis=1)\n",
    "df = df.drop(\"yueceng\",axis=1)\n",
    "df = df.drop(\"diepin\",axis=1)\n",
    "df = df.drop(\"steel_struct\",axis=1)\n",
    "df = df.drop(\"semi_reno\",axis=1)"
   ]
  },
  {
   "cell_type": "code",
   "execution_count": null,
   "metadata": {
    "id": "ljoLj6TSaX4J"
   },
   "outputs": [],
   "source": [
    "df"
   ]
  },
  {
   "cell_type": "code",
   "execution_count": null,
   "metadata": {
    "colab": {
     "base_uri": "https://localhost:8080/"
    },
    "id": "-CBeY2ob7zlc",
    "outputId": "81012c4f-6ee4-4e1c-8d1f-a68aa1c3d10a"
   },
   "outputs": [],
   "source": [
    "tp = df[\"transact_property\"]\n",
    "tpp = np.array(tp)\n",
    "for i in range(len(tpp)):\n",
    "  tpp[i]=str(tpp[i])\n",
    "print(np.unique(tpp))"
   ]
  },
  {
   "cell_type": "code",
   "execution_count": null,
   "metadata": {
    "id": "Go9PRBEZb2wd"
   },
   "outputs": [],
   "source": [
    "resettle_housing = []\n",
    "public_housing = []\n",
    "for i in range(len(tp)):\n",
    "  if tp[i]==\"动迁安置房\":\n",
    "    resettle_housing.append(1)\n",
    "    public_housing.append(0)\n",
    "  elif tp[i]==\"售后公房\":\n",
    "    resettle_housing.append(0)\n",
    "    public_housing.append(1)\n",
    "  else:\n",
    "    resettle_housing.append(0)\n",
    "    public_housing.append(0)\n",
    "df[\"resettle_housing\"]=resettle_housing\n",
    "df[\"public_housing\"]=public_housing\n"
   ]
  },
  {
   "cell_type": "code",
   "execution_count": null,
   "metadata": {
    "colab": {
     "base_uri": "https://localhost:8080/"
    },
    "id": "cgSgYyXp8TBW",
    "outputId": "f71b0bd4-cb55-449b-ade9-1c24d24c707f"
   },
   "outputs": [],
   "source": [
    "func = df[\"function\"]\n",
    "funcc = np.array(func)\n",
    "for i in range(len(funcc)):\n",
    "  funcc[i]=str(funcc[i])\n",
    "print(np.unique(funcc))"
   ]
  },
  {
   "cell_type": "code",
   "execution_count": null,
   "metadata": {
    "id": "4Ik5e3csdjWV"
   },
   "outputs": [],
   "source": [
    "villa_func = []\n",
    "office_func = []\n",
    "xinshi_func = []\n",
    "jiushi_func = []\n",
    "commonresi_func = []\n",
    "oldapar_func = []\n",
    "for i in range(len(funcc)):\n",
    "  if funcc[i]==\"老公寓\":\n",
    "    villa_func.append(0)\n",
    "    office_func.append(0)\n",
    "    xinshi_func.append(0)\n",
    "    jiushi_func.append(0)\n",
    "    commonresi_func.append(0)\n",
    "    oldapar_func.append(1)\n",
    "  elif func[i]==\"别墅\":\n",
    "    villa_func.append(1)\n",
    "    office_func.append(0)\n",
    "    xinshi_func.append(0)\n",
    "    jiushi_func.append(0)\n",
    "    commonresi_func.append(0)\n",
    "    oldapar_func.append(0)\n",
    "  elif func[i]==\"商业办公类\":\n",
    "    villa_func.append(0)\n",
    "    office_func.append(1)\n",
    "    xinshi_func.append(0)\n",
    "    jiushi_func.append(0)\n",
    "    commonresi_func.append(0)\n",
    "    oldapar_func.append(0)\n",
    "  elif func[i]==\"新式里弄\":\n",
    "    villa_func.append(0)\n",
    "    office_func.append(0)\n",
    "    xinshi_func.append(1)\n",
    "    jiushi_func.append(0)\n",
    "    commonresi_func.append(0)\n",
    "    oldapar_func.append(0)\n",
    "  elif func[i]==\"旧式里弄\":\n",
    "    villa_func.append(0)\n",
    "    office_func.append(0)\n",
    "    xinshi_func.append(0)\n",
    "    jiushi_func.append(1)\n",
    "    commonresi_func.append(0)\n",
    "    oldapar_func.append(0)\n",
    "  elif func[i]==\"普通住宅\":\n",
    "    villa_func.append(0)\n",
    "    office_func.append(0)\n",
    "    xinshi_func.append(0)\n",
    "    jiushi_func.append(0)\n",
    "    commonresi_func.append(1)\n",
    "    oldapar_func.append(0)\n",
    "  elif func[i]==\"花园洋房\":\n",
    "    villa_func.append(0)\n",
    "    office_func.append(0)\n",
    "    xinshi_func.append(0)\n",
    "    jiushi_func.append(0)\n",
    "    commonresi_func.append(0)\n",
    "    oldapar_func.append(0)\n",
    "  else:\n",
    "    villa_func.append(np.nan)\n",
    "    office_func.append(np.nan)\n",
    "    xinshi_func.append(np.nan)\n",
    "    jiushi_func.append(np.nan)\n",
    "    commonresi_func.append(np.nan)\n",
    "    oldapar_func.append(np.nan)\n",
    "df[\"villa_func\"]=villa_func\n",
    "df[\"office_func\"]=office_func\n",
    "df[\"xinshi_func\"]=xinshi_func\n",
    "df[\"jiushi_func\"]=jiushi_func\n",
    "df[\"commonresi_func\"]=commonresi_func\n",
    "df[\"oldapar_func\"]=oldapar_func"
   ]
  },
  {
   "cell_type": "code",
   "execution_count": 229,
   "metadata": {
    "colab": {
     "base_uri": "https://localhost:8080/"
    },
    "id": "tMmbW-LT8kwi",
    "outputId": "30464c8a-3bdd-4bdf-ce6f-6803b34a833c"
   },
   "outputs": [
    {
     "name": "stdout",
     "output_type": "stream",
     "text": [
      "['nan' '未满两年' '满两年' '满五年']\n"
     ]
    }
   ],
   "source": [
    "agel = df[\"age_limit\"]\n",
    "agell = np.array(agel)\n",
    "for i in range(len(agell)):\n",
    "  agell[i]=str(agell[i])\n",
    "print(np.unique(agell))"
   ]
  },
  {
   "cell_type": "code",
   "execution_count": 230,
   "metadata": {
    "id": "h0i7qcQXj7qV"
   },
   "outputs": [],
   "source": [
    "below_twoyr = []\n",
    "beyond_twoyr = []\n",
    "for i in range(len(agell)):\n",
    "  if agell[i]==\"未满两年\":\n",
    "    below_twoyr.append(1)\n",
    "    beyond_twoyr.append(0)\n",
    "  elif agell[i]==\"满两年\":\n",
    "    beyond_twoyr.append(1)\n",
    "    below_twoyr.append(0)\n",
    "  elif agell[i]==\"满五年\":\n",
    "    beyond_twoyr.append(1)\n",
    "    below_twoyr.append(0)\n",
    "  else:\n",
    "    beyond_twoyr.append(np.nan)\n",
    "    below_twoyr.append(np.nan)"
   ]
  },
  {
   "cell_type": "code",
   "execution_count": 231,
   "metadata": {
    "colab": {
     "base_uri": "https://localhost:8080/"
    },
    "id": "5-aUYgqC859T",
    "outputId": "27100af0-6f26-4e9d-d325-58c4067ae206"
   },
   "outputs": [
    {
     "name": "stdout",
     "output_type": "stream",
     "text": [
      "['共有' '非共有']\n"
     ]
    }
   ],
   "source": [
    "prp = df[\"property_belong\"]\n",
    "prpp = np.array(prp)\n",
    "for i in range(len(prpp)):\n",
    "  prpp[i]=str(prpp[i])\n",
    "print(np.unique(prpp))"
   ]
  },
  {
   "cell_type": "code",
   "execution_count": 232,
   "metadata": {
    "id": "iHKFolOjmxRs"
   },
   "outputs": [
    {
     "name": "stderr",
     "output_type": "stream",
     "text": [
      "C:\\Users\\Lenovo\\AppData\\Local\\Temp/ipykernel_23440/2466874724.py:7: PerformanceWarning: DataFrame is highly fragmented.  This is usually the result of calling `frame.insert` many times, which has poor performance.  Consider joining all columns at once using pd.concat(axis=1) instead.  To get a de-fragmented frame, use `newframe = frame.copy()`\n",
      "  df[\"shared\"]=shared\n"
     ]
    }
   ],
   "source": [
    "shared = []\n",
    "for i in range(len(prpp)):\n",
    "  if prpp[i]==\"共有\":\n",
    "    shared.append(1)\n",
    "  else:\n",
    "    shared.append(0)\n",
    "df[\"shared\"]=shared"
   ]
  },
  {
   "cell_type": "code",
   "execution_count": 233,
   "metadata": {
    "colab": {
     "base_uri": "https://localhost:8080/"
    },
    "id": "__ZZmOyl9PMt",
    "outputId": "92c1a7ed-3d17-4f83-8196-d55d61b754a7"
   },
   "outputs": [
    {
     "name": "stdout",
     "output_type": "stream",
     "text": [
      "['已上传房本照片' '未上传房本照片']\n"
     ]
    }
   ],
   "source": [
    "upp = df[\"upload_photo\"]\n",
    "uppp = np.array(upp)\n",
    "for i in range(len(uppp)):\n",
    "  uppp[i]=str(uppp[i])\n",
    "print(np.unique(uppp))"
   ]
  },
  {
   "cell_type": "code",
   "execution_count": 234,
   "metadata": {
    "id": "r-NxvX9inQBn"
   },
   "outputs": [
    {
     "name": "stderr",
     "output_type": "stream",
     "text": [
      "C:\\Users\\Lenovo\\AppData\\Local\\Temp/ipykernel_23440/1275203964.py:7: PerformanceWarning: DataFrame is highly fragmented.  This is usually the result of calling `frame.insert` many times, which has poor performance.  Consider joining all columns at once using pd.concat(axis=1) instead.  To get a de-fragmented frame, use `newframe = frame.copy()`\n",
      "  df[\"photo_uploaded\"] = uploaded\n"
     ]
    }
   ],
   "source": [
    "uploaded = []\n",
    "for i in range(len(uppp)):\n",
    "  if uppp[i]==\"已上传房本照片\":\n",
    "    uploaded.append(1)\n",
    "  else:\n",
    "    uploaded.append(0)\n",
    "df[\"photo_uploaded\"] = uploaded"
   ]
  },
  {
   "cell_type": "code",
   "execution_count": 235,
   "metadata": {
    "colab": {
     "base_uri": "https://localhost:8080/"
    },
    "id": "7epU5wmX9lQy",
    "outputId": "33652f84-c9f8-46ac-bb90-b4afadeb13e7"
   },
   "outputs": [
    {
     "name": "stdout",
     "output_type": "stream",
     "text": [
      "['' '\\\\xa0' '\\\\xa0中环至外环' '\\\\xa0内环内' '\\\\xa0内环至中环' '\\\\xa0外环外' '\\\\xa1内环内'\n",
      " '外环外']\n"
     ]
    }
   ],
   "source": [
    "locc = df[\"loc\"]\n",
    "loccc = np.array(locc)\n",
    "for i in range(len(loccc)):\n",
    "  loccc[i]=str(loccc[i])\n",
    "print(np.unique(loccc))"
   ]
  },
  {
   "cell_type": "code",
   "execution_count": 236,
   "metadata": {
    "id": "Xr_a378Qn9_1"
   },
   "outputs": [
    {
     "name": "stderr",
     "output_type": "stream",
     "text": [
      "C:\\Users\\Lenovo\\AppData\\Local\\Temp/ipykernel_23440/1510627760.py:25: PerformanceWarning: DataFrame is highly fragmented.  This is usually the result of calling `frame.insert` many times, which has poor performance.  Consider joining all columns at once using pd.concat(axis=1) instead.  To get a de-fragmented frame, use `newframe = frame.copy()`\n",
      "  df[\"central_out\"]=central_out\n",
      "C:\\Users\\Lenovo\\AppData\\Local\\Temp/ipykernel_23440/1510627760.py:26: PerformanceWarning: DataFrame is highly fragmented.  This is usually the result of calling `frame.insert` many times, which has poor performance.  Consider joining all columns at once using pd.concat(axis=1) instead.  To get a de-fragmented frame, use `newframe = frame.copy()`\n",
      "  df[\"inner\"]=inner\n",
      "C:\\Users\\Lenovo\\AppData\\Local\\Temp/ipykernel_23440/1510627760.py:27: PerformanceWarning: DataFrame is highly fragmented.  This is usually the result of calling `frame.insert` many times, which has poor performance.  Consider joining all columns at once using pd.concat(axis=1) instead.  To get a de-fragmented frame, use `newframe = frame.copy()`\n",
      "  df[\"inner_central\"]=inner_central\n"
     ]
    }
   ],
   "source": [
    "central_out = []\n",
    "inner = []\n",
    "inner_central = []\n",
    "for i in range(len(loccc)):\n",
    "  if loccc[i]==\"中环至外环\":\n",
    "    central_out.append(1)\n",
    "    inner.append(0)\n",
    "    inner_central.append(0)\n",
    "  elif loccc[i]==\"内环内\":\n",
    "    central_out.append(0)\n",
    "    inner.append(1)\n",
    "    inner_central.append(0)\n",
    "  elif loccc[i]==\"内环至中环\":\n",
    "    central_out.append(0)\n",
    "    inner.append(0)\n",
    "    inner_central.append(1)\n",
    "  elif loccc[i]==\"外环外\":\n",
    "    central_out.append(0)\n",
    "    inner.append(0)\n",
    "    inner_central.append(0)\n",
    "  else:\n",
    "    central_out.append(np.nan)\n",
    "    inner.append(np.nan)\n",
    "    inner_central.append(np.nan)\n",
    "df[\"central_out\"]=central_out\n",
    "df[\"inner\"]=inner\n",
    "df[\"inner_central\"]=inner_central"
   ]
  },
  {
   "cell_type": "code",
   "execution_count": 237,
   "metadata": {
    "colab": {
     "base_uri": "https://localhost:8080/"
    },
    "id": "FJdlP81n9zhj",
    "outputId": "69c9311c-a456-4b81-e0a5-b8056f47e4ce"
   },
   "outputs": [
    {
     "name": "stdout",
     "output_type": "stream",
     "text": [
      "['' '下班后可看' '具体信息请致电经纪人' '只周末可看' '提前预约随时可看' '有租户需预约']\n"
     ]
    }
   ],
   "source": [
    "avt = df[\"avail_visit_time\"]\n",
    "avtt = np.array(avt)\n",
    "for i in range(len(avtt)):\n",
    "  avtt[i]=str(avtt[i])\n",
    "  tt = avtt[i]\n",
    "  tt = tt.strip('\"')\n",
    "  tt = tt.strip(']')\n",
    "  tt = tt.strip(\"'\")\n",
    "  tt = tt.strip(\"\\\\\")\n",
    "  df[\"avail_visit_time\"][i]==tt\n",
    "  avtt[i]=tt\n",
    "print(np.unique(avtt))"
   ]
  },
  {
   "cell_type": "code",
   "execution_count": 238,
   "metadata": {
    "id": "-EJ4lat7sPb2"
   },
   "outputs": [
    {
     "name": "stderr",
     "output_type": "stream",
     "text": [
      "C:\\Users\\Lenovo\\AppData\\Local\\Temp/ipykernel_23440/3960756356.py:36: PerformanceWarning: DataFrame is highly fragmented.  This is usually the result of calling `frame.insert` many times, which has poor performance.  Consider joining all columns at once using pd.concat(axis=1) instead.  To get a de-fragmented frame, use `newframe = frame.copy()`\n",
      "  df[\"after_work\"] = after_work\n",
      "C:\\Users\\Lenovo\\AppData\\Local\\Temp/ipykernel_23440/3960756356.py:37: PerformanceWarning: DataFrame is highly fragmented.  This is usually the result of calling `frame.insert` many times, which has poor performance.  Consider joining all columns at once using pd.concat(axis=1) instead.  To get a de-fragmented frame, use `newframe = frame.copy()`\n",
      "  df[\"call_agent\"] = call_agent\n",
      "C:\\Users\\Lenovo\\AppData\\Local\\Temp/ipykernel_23440/3960756356.py:38: PerformanceWarning: DataFrame is highly fragmented.  This is usually the result of calling `frame.insert` many times, which has poor performance.  Consider joining all columns at once using pd.concat(axis=1) instead.  To get a de-fragmented frame, use `newframe = frame.copy()`\n",
      "  df[\"only_weekend\"]=only_weekend\n",
      "C:\\Users\\Lenovo\\AppData\\Local\\Temp/ipykernel_23440/3960756356.py:39: PerformanceWarning: DataFrame is highly fragmented.  This is usually the result of calling `frame.insert` many times, which has poor performance.  Consider joining all columns at once using pd.concat(axis=1) instead.  To get a de-fragmented frame, use `newframe = frame.copy()`\n",
      "  df[\"reserve_needed\"]=reserve_needed\n"
     ]
    }
   ],
   "source": [
    "after_work = []\n",
    "call_agent = []\n",
    "only_weekend = []\n",
    "reserve_needed = []\n",
    "for i in range(len(avtt)):\n",
    "  if avtt[i]==\"下班后可看\":\n",
    "    after_work.append(1)\n",
    "    call_agent.append(0)\n",
    "    only_weekend.append(0)\n",
    "    reserve_needed.append(0)\n",
    "  elif avtt[i]==\"具体信息请致电经纪人\":\n",
    "    after_work.append(0)\n",
    "    call_agent.append(1)\n",
    "    only_weekend.append(0)\n",
    "    reserve_needed.append(0)\n",
    "  elif avtt[i]==\"只周末可看\":\n",
    "    after_work.append(0)\n",
    "    call_agent.append(0)\n",
    "    only_weekend.append(1)\n",
    "    reserve_needed.append(0)\n",
    "  elif avtt[i]==\"提前预约随时可看\":\n",
    "    after_work.append(0)\n",
    "    call_agent.append(0)\n",
    "    only_weekend.append(0)\n",
    "    reserve_needed.append(1)\n",
    "  elif avtt[i]==\"有租户需预约\":\n",
    "    after_work.append(0)\n",
    "    call_agent.append(0)\n",
    "    only_weekend.append(0)\n",
    "    reserve_needed.append(0)\n",
    "  else:\n",
    "    after_work.append(np.nan)\n",
    "    call_agent.append(np.nan)\n",
    "    only_weekend.append(np.nan)\n",
    "    reserve_needed.append(np.nan)\n",
    "df[\"after_work\"] = after_work\n",
    "df[\"call_agent\"] = call_agent\n",
    "df[\"only_weekend\"]=only_weekend\n",
    "df[\"reserve_needed\"]=reserve_needed\n"
   ]
  },
  {
   "cell_type": "code",
   "execution_count": null,
   "metadata": {
    "id": "qI2UIEOAur-h"
   },
   "outputs": [],
   "source": [
    "df.to_csv(\"2022928934.csv\",index=False)"
   ]
  },
  {
   "cell_type": "code",
   "execution_count": null,
   "metadata": {
    "id": "q-agVkmau6Bu"
   },
   "outputs": [],
   "source": [
    "dropped_col = [\"rel_floor\",\"config\",\"layout\",\"building_type\",\"direction\",\"structure\",\"renovation_status\",\"transact_property\",\"function\",\"age_limit\",\"property_belong\",\"upload_photo\",\"loc\",\"avail_visit_time\"]\n",
    "df = df.drop(dropped_col,axis=1)"
   ]
  },
  {
   "cell_type": "code",
   "execution_count": null,
   "metadata": {
    "id": "KJP0htJ9wNM0"
   },
   "outputs": [],
   "source": [
    "df = df.drop(\"no_of_units\",axis=1)"
   ]
  },
  {
   "cell_type": "code",
   "execution_count": null,
   "metadata": {
    "id": "HbpXB-DUvkPz"
   },
   "outputs": [],
   "source": [
    "df.to_csv(\"2022928941dropped.csv\",index=False)"
   ]
  },
  {
   "cell_type": "code",
   "execution_count": null,
   "metadata": {
    "colab": {
     "base_uri": "https://localhost:8080/"
    },
    "id": "o72KeFan_VIE",
    "outputId": "891f5bbd-cb39-4ff4-b09e-f25d273f21fe"
   },
   "outputs": [],
   "source": [
    "district = df[\"district\"]\n",
    "dist = np.array(district)\n",
    "for i in range(len(dist)):\n",
    "  dist[i]=str(dist[i])\n",
    "print(np.unique(dist))"
   ]
  },
  {
   "cell_type": "code",
   "execution_count": null,
   "metadata": {
    "id": "mCv13CzvMb7J"
   },
   "outputs": [],
   "source": [
    "df2 = pd.get_dummies(pd.Series(district))"
   ]
  },
  {
   "cell_type": "code",
   "execution_count": null,
   "metadata": {
    "id": "E0RjYWD5M5kT"
   },
   "outputs": [],
   "source": [
    "df_all = pd.concat([df,df2],axis=1)"
   ]
  },
  {
   "cell_type": "code",
   "execution_count": null,
   "metadata": {
    "id": "HoRCxCU6Ne-J"
   },
   "outputs": [],
   "source": [
    "df_all = df_all.drop(\"district\",axis=1)"
   ]
  },
  {
   "cell_type": "code",
   "execution_count": null,
   "metadata": {
    "id": "X7DBX3MHN2TF"
   },
   "outputs": [],
   "source": [
    "df_all.to_csv(\"C:/Users/Lenovo/Desktop/git/STAT4011_Project1/data/Lianjia.csv\",index=False)"
   ]
  },
  {
   "cell_type": "markdown",
   "metadata": {
    "id": "FJjJLEEswwqM"
   },
   "source": [
    "*east* column is deleted in outputed csv table."
   ]
  }
 ],
 "metadata": {
  "colab": {
   "provenance": []
  },
  "kernelspec": {
   "display_name": "Python 3 (ipykernel)",
   "language": "python",
   "name": "python3"
  },
  "language_info": {
   "codemirror_mode": {
    "name": "ipython",
    "version": 3
   },
   "file_extension": ".py",
   "mimetype": "text/x-python",
   "name": "python",
   "nbconvert_exporter": "python",
   "pygments_lexer": "ipython3",
   "version": "3.9.7"
  }
 },
 "nbformat": 4,
 "nbformat_minor": 1
}
